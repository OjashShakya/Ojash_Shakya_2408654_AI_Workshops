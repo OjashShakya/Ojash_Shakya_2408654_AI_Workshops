{
  "nbformat": 4,
  "nbformat_minor": 0,
  "metadata": {
    "colab": {
      "provenance": [],
      "mount_file_id": "19VXGq-tSjZRa-ua8yWLYGqR1DEMmJDNb",
      "authorship_tag": "ABX9TyMR8ncY9xtHhaXVWro15Eil",
      "include_colab_link": true
    },
    "kernelspec": {
      "name": "python3",
      "display_name": "Python 3"
    },
    "language_info": {
      "name": "python"
    }
  },
  "cells": [
    {
      "cell_type": "markdown",
      "metadata": {
        "id": "view-in-github",
        "colab_type": "text"
      },
      "source": [
        "<a href=\"https://colab.research.google.com/github/OjashShakya/Ojash_Shakya_2408654_AI_Workshops/blob/main/Ojash_Shakya_2408654_Workshop_W4.ipynb\" target=\"_parent\"><img src=\"https://colab.research.google.com/assets/colab-badge.svg\" alt=\"Open In Colab\"/></a>"
      ]
    },
    {
      "cell_type": "markdown",
      "source": [
        "Name: Ojash Shakya\n",
        "\n",
        "ID: 2408654"
      ],
      "metadata": {
        "id": "L7X_ysNxPjP6"
      }
    },
    {
      "cell_type": "markdown",
      "source": [
        "##Implementing k-NN Algorithm from scratch Step - step Guide:"
      ],
      "metadata": {
        "id": "ARvIenWXPs9y"
      }
    },
    {
      "cell_type": "markdown",
      "source": [
        "Step - 1: Understanding Data:\n",
        "\n",
        "1. Load Dataset: The following code loads a Titanic dataset, keeps only relevant columns, checks for\n",
        "missing data, and handles it by either filling with the mean (for columns with over 10% missing) or\n",
        "dropping rows (for columns with 10% or less missing)."
      ],
      "metadata": {
        "id": "kOjCmHVvPxqy"
      }
    },
    {
      "cell_type": "code",
      "execution_count": null,
      "metadata": {
        "colab": {
          "base_uri": "https://localhost:8080/"
        },
        "id": "D8bToGoO46yS",
        "outputId": "83eeb8cc-9cc8-44ec-88d9-027af1ada58c"
      },
      "outputs": [
        {
          "output_type": "stream",
          "name": "stdout",
          "text": [
            "Data after processing:\n",
            "    PassengerId  Survived  Pclass   Age  SibSp  Parch     Fare\n",
            "0            1         0       3  22.0      1      0   7.2500\n",
            "1            2         1       1  38.0      1      0  71.2833\n",
            "2            3         1       3  26.0      0      0   7.9250\n",
            "3            4         1       1  35.0      1      0  53.1000\n",
            "4            5         0       3  35.0      0      0   8.0500\n",
            "\n",
            "Missing values after processing:\n",
            " PassengerId    0\n",
            "Survived       0\n",
            "Pclass         0\n",
            "Age            0\n",
            "SibSp          0\n",
            "Parch          0\n",
            "Fare           0\n",
            "dtype: int64\n"
          ]
        }
      ],
      "source": [
        "import pandas as pd\n",
        "import numpy as np\n",
        "\n",
        "# Load the Titanic dataset\n",
        "data = pd.read_csv(\"/content/drive/MyDrive/Concepts and Technologies of AI/Datasets/Datasets/Titanic-Dataset.csv\")\n",
        "\n",
        "# Drop all categorical columns except 'Survived'\n",
        "categorical_columns = data.select_dtypes(include=['object']).columns\n",
        "data = data.drop(columns=[col for col in categorical_columns if col != 'Survived'])\n",
        "\n",
        "# Check for missing values\n",
        "missing_info = data.isnull().sum() / len(data) * 100\n",
        "\n",
        "# Handle missing values\n",
        "for column in data.columns:\n",
        "    if missing_info[column] > 10:  # If more than 10% missing\n",
        "        data.loc[:, column] = data[column].fillna(data[column].mean())\n",
        "    else:  # If less than 10% missing\n",
        "        data = data.dropna(subset=[column])\n",
        "\n",
        "# Display cleaned data\n",
        "print(\"Data after processing:\\n\", data.head())\n",
        "print(\"\\nMissing values after processing:\\n\", data.isnull().sum())\n"
      ]
    },
    {
      "cell_type": "markdown",
      "source": [
        "2. Creating a Feature Matrix and Label Vector and Splitting Train - Test Split:This code separates the\n",
        "Titanic dataset into features (X) and target (y) and implements a custom train-test splitting function.\n",
        "It shuffles the data, splits it into training (70%) and testing (30%) sets, and verifies the output by\n",
        "displaying the shapes of the resulting datasets. This ensures that the model will have separate data for\n",
        "training and evaluation."
      ],
      "metadata": {
        "id": "Lhc_NQr7PzrJ"
      }
    },
    {
      "cell_type": "code",
      "source": [
        "import numpy as np\n",
        "# Separate features (X) and target (y)\n",
        "X = data.drop(columns=['Survived']).values # Convert features to NumPy array\n",
        "y = data['Survived'].values # Convert target to NumPy array\n",
        "# Define a function for train-test split from scratch\n",
        "def train_test_split_scratch(X, y, test_size=0.3, random_seed=42):\n",
        "  \"\"\"\n",
        "  Splits dataset into train and test sets.\n",
        "  Arguments:\n",
        "  X : np.ndarray\n",
        "  Feature matrix.\n",
        "  y : np.ndarray\n",
        "  Target array.\n",
        "  test_size : float\n",
        "  Proportion of the dataset to include in the test split (0 < test_size < 1).\n",
        "  random_seed : int\n",
        "  Seed for reproducibility.\n",
        "  Returns:\n",
        "  X_train, X_test, y_train, y_test : np.ndarray\n",
        "  Training and testing splits of features and target.\n",
        "  \"\"\"\n",
        "  np.random.seed(random_seed)\n",
        "  indices = np.arange(X.shape[0])\n",
        "  np.random.shuffle(indices) # Shuffle the indices\n",
        "  test_split_size = int(len(X) * test_size)\n",
        "  test_indices = indices[:test_split_size]\n",
        "  train_indices = indices[test_split_size:]\n",
        "  X_train, X_test = X[train_indices], X[test_indices]\n",
        "  y_train, y_test = y[train_indices], y[test_indices]\n",
        "  return X_train, X_test, y_train, y_test\n",
        "# Perform the train-test split\n",
        "X_train, X_test, y_train, y_test = train_test_split_scratch(X, y, test_size=0.3)\n",
        "# Output shapes to verify\n",
        "print(\"Shape of X_train:\", X_train.shape)\n",
        "print(\"Shape of X_test:\", X_test.shape)\n",
        "print(\"Shape of y_train:\", y_train.shape)\n",
        "print(\"Shape of y_test:\", y_test.shape)"
      ],
      "metadata": {
        "colab": {
          "base_uri": "https://localhost:8080/"
        },
        "id": "zMx2xeNJ9lOo",
        "outputId": "bc667d8b-bdc6-4b30-de82-5142a36ecd3b"
      },
      "execution_count": null,
      "outputs": [
        {
          "output_type": "stream",
          "name": "stdout",
          "text": [
            "Shape of X_train: (624, 6)\n",
            "Shape of X_test: (267, 6)\n",
            "Shape of y_train: (624,)\n",
            "Shape of y_test: (267,)\n"
          ]
        }
      ]
    },
    {
      "cell_type": "markdown",
      "source": [
        "Step - 2 - Computing Euclidean Distance Metrics:"
      ],
      "metadata": {
        "id": "RXCR3uWhP86Q"
      }
    },
    {
      "cell_type": "markdown",
      "source": [
        "1. The function ensures that the inputs are compatible and calculates the Euclidean distance using the\n",
        "formula. It is versatile for n-dimensional spaces and raises errors for incompatible inputs."
      ],
      "metadata": {
        "id": "g62fMhfoP9eH"
      }
    },
    {
      "cell_type": "code",
      "source": [
        "def euclidean_distance(point1, point2):\n",
        "  \"\"\"\n",
        "  Calculate the Euclidean distance between two points in n-dimensional space.\n",
        "  Arguments:\n",
        "  point1 : np.ndarray\n",
        "  The first point as a numpy array.\n",
        "  point2 : np.ndarray\n",
        "  The second point as a numpy array.\n",
        "  Returns:\n",
        "  float\n",
        "  The Euclidean distance between the two points.\n",
        "  Raises:\n",
        "  ValueError: If the input points do not have the same dimensionality.\n",
        "  \"\"\"\n",
        "  # Check if the points are of the same dimension\n",
        "  if point1.shape != point2.shape:\n",
        "    raise ValueError(\"Points must have the same dimensions to calculate Euclidean distance.\")\n",
        "  # Calculate the Euclidean distance\n",
        "  distance = np.sqrt(np.sum((point1 - point2) ** 2))\n",
        "  return distance\n",
        "# Test case for the function\n",
        "try:\n",
        "  # Define two points\n",
        "  point1 = np.array([3, 4])\n",
        "  point2 = np.array([0, 0])\n",
        "  # Calculate the distance\n",
        "  result = euclidean_distance(point1, point2)\n",
        "  # Check if the result matches the expected value (e.g., sqrt(3^2 + 4^2) = 5)\n",
        "  expected_result = 5.0\n",
        "  assert np.isclose(result, expected_result), f\"Expected {expected_result}, but got {result}\"\n",
        "  print(\"Test passed successfully!\")\n",
        "except ValueError as ve:\n",
        "  print(f\"ValueError: {ve}\")\n",
        "except AssertionError as ae:\n",
        "  print(f\"AssertionError: {ae}\")\n",
        "except Exception as e:\n",
        "  print(f\"An unexpected error occurred: {e}\")"
      ],
      "metadata": {
        "id": "KVmGjnYE98m7",
        "colab": {
          "base_uri": "https://localhost:8080/"
        },
        "outputId": "2cb7c56c-8d23-4e65-a206-c719c4e91221"
      },
      "execution_count": null,
      "outputs": [
        {
          "output_type": "stream",
          "name": "stdout",
          "text": [
            "Test passed successfully!\n"
          ]
        }
      ]
    },
    {
      "cell_type": "markdown",
      "source": [
        "Step - 3 - Implementation of core k-NN algorithm:"
      ],
      "metadata": {
        "id": "qhd9D6s9QGS5"
      }
    },
    {
      "cell_type": "markdown",
      "source": [
        "1. Predict the class label for a Single Query Point - knn predict single:"
      ],
      "metadata": {
        "id": "q1ABN7HXQIUf"
      }
    },
    {
      "cell_type": "code",
      "source": [
        "# Function for KNN prediction for a single query\n",
        "def knn_predict_single(query, X_train, y_train, k=3):\n",
        "  \"\"\"\n",
        "  Predict the class label for a single query using the K-nearest neighbors algorithm.\n",
        "  Arguments:\n",
        "  query : np.ndarray\n",
        "  The query point for which the prediction is to be made.\n",
        "  X_train : np.ndarray\n",
        "  The training feature matrix.\n",
        "  y_train : np.ndarray\n",
        "  The training labels.\n",
        "  k : int, optional\n",
        "  The number of nearest neighbors to consider (default is 3).\n",
        "  Returns:\n",
        "  int\n",
        "  The predicted class label for the query.\n",
        "  \"\"\"\n",
        "  distances = [euclidean_distance(query, x) for x in X_train]\n",
        "  sorted_indices = np.argsort(distances)\n",
        "  nearest_indices = sorted_indices[:k]\n",
        "  nearest_labels = y_train[nearest_indices]\n",
        "  prediction = np.bincount(nearest_labels).argmax()\n",
        "  return prediction"
      ],
      "metadata": {
        "id": "Gwg2qj9M_gej"
      },
      "execution_count": null,
      "outputs": []
    },
    {
      "cell_type": "markdown",
      "source": [
        "2. Predict Class Labels for All Test Samples - knn predict:\n",
        "\n",
        "3. Test Case for both above function:"
      ],
      "metadata": {
        "id": "G4kDFFJRQKOh"
      }
    },
    {
      "cell_type": "code",
      "source": [
        "# Function to test KNN for all test samples\n",
        "def knn_predict(X_test, X_train, y_train, k=3):\n",
        "  \"\"\"\n",
        "  Predict the class labels for all test samples using the K-nearest neighbors algorithm.\n",
        "  Arguments:\n",
        "  X_test : np.ndarray\n",
        "  The test feature matrix.\n",
        "  X_train : np.ndarray\n",
        "  The training feature matrix.\n",
        "  y_train : np.ndarray\n",
        "  The training labels.\n",
        "  k : int, optional\n",
        "  The number of nearest neighbors to consider (default is 3).\n",
        "  Returns:\n",
        "  np.ndarray\n",
        "  An array of predicted class labels for the test samples.\n",
        "  \"\"\"\n",
        "  predictions = [knn_predict_single(x, X_train, y_train, k) for x in X_test]\n",
        "  return np.array(predictions)\n",
        "# Test case for KNN on the Titanic dataset\n",
        "# Assume X_train, X_test, y_train, and y_test have been prepared using the code above\n",
        "try:\n",
        "  # Define the test set for the test case\n",
        "  X_test_sample = X_test[:5] # Taking a small subset for testing\n",
        "  y_test_sample = y_test[:5] # Corresponding labels for the subset\n",
        "  # Make predictions\n",
        "  predictions = knn_predict(X_test_sample, X_train, y_train, k=3)\n",
        "  # Print test results\n",
        "  print(\"Predictions:\", predictions)\n",
        "  print(\"Actual labels:\", y_test_sample)\n",
        "  # Check if predictions match expected format\n",
        "  assert predictions.shape == y_test_sample.shape, \"The shape of predictions does not match the shape of the actual labels.\"\n",
        "  print(\"Test case passed successfully!\")\n",
        "except AssertionError as ae:\n",
        "  print(f\"AssertionError: {ae}\")\n",
        "except Exception as e:\n",
        "  print(f\"An unexpected error occurred: {e}\")"
      ],
      "metadata": {
        "id": "al_mIvdsAA9U",
        "colab": {
          "base_uri": "https://localhost:8080/"
        },
        "outputId": "cd7a4e74-9014-43e9-c713-544d691cfb1a"
      },
      "execution_count": null,
      "outputs": [
        {
          "output_type": "stream",
          "name": "stdout",
          "text": [
            "Predictions: [0 1 0 0 0]\n",
            "Actual labels: [1 0 0 1 1]\n",
            "Test case passed successfully!\n"
          ]
        }
      ]
    },
    {
      "cell_type": "markdown",
      "source": [
        "Step - 4 - Computing Accuracy:"
      ],
      "metadata": {
        "id": "ajk9HfsjQOAQ"
      }
    },
    {
      "cell_type": "code",
      "source": [
        "# Function to compute accuracy of predictions\n",
        "def compute_accuracy(y_true, y_pred):\n",
        "  \"\"\"\n",
        "  Compute the accuracy of predictions.\n",
        "  Arguments:\n",
        "  y_true : np.ndarray ; The true labels.\n",
        "  y_pred : np.ndarray; The predicted labels.\n",
        "  Returns:\n",
        "  float : The accuracy as a percentage (0 to 100).\n",
        "  \"\"\"\n",
        "  correct_predictions = np.sum(y_true == y_pred)\n",
        "  total_predictions = len(y_true)\n",
        "  accuracy = (correct_predictions / total_predictions) * 100\n",
        "  return accuracy\n",
        "# Perform prediction on the entire test set\n",
        "try:\n",
        "  # Make predictions on the entire test set\n",
        "  predictions = knn_predict(X_test, X_train, y_train, k=3)\n",
        "  # Compute the accuracy\n",
        "  accuracy = compute_accuracy(y_test, predictions)\n",
        "  # Print the accuracy\n",
        "  print(f\"Accuracy of the KNN model on the test set: {accuracy:.2f}%\")\n",
        "except Exception as e:\n",
        "  print(f\"An unexpected error occurred during prediction or accuracy computation: {e}\")"
      ],
      "metadata": {
        "colab": {
          "base_uri": "https://localhost:8080/"
        },
        "id": "O674YoirAiXh",
        "outputId": "e147a410-c9c0-441d-eab9-c4186f87e351"
      },
      "execution_count": null,
      "outputs": [
        {
          "output_type": "stream",
          "name": "stdout",
          "text": [
            "Accuracy of the KNN model on the test set: 61.80%\n"
          ]
        }
      ]
    },
    {
      "cell_type": "markdown",
      "source": [
        "Step - 5 - Experiment with different values of k:"
      ],
      "metadata": {
        "id": "ahUl7TwCQd4X"
      }
    },
    {
      "cell_type": "code",
      "source": [
        "# Function to test KNN on different values of k and plot the accuracies\n",
        "import matplotlib.pyplot as plt\n",
        "def experiment_knn_k_values(X_train, y_train, X_test, y_test, k_values):\n",
        "  \"\"\"\n",
        "  Run KNN predictions for different values of k and plot the accuracies.\n",
        "  Arguments:\n",
        "  X_train : np.ndarray\n",
        "  The training feature matrix.\n",
        "  y_train : np.ndarray\n",
        "  The training labels.\n",
        "  X_test : np.ndarray\n",
        "  The test feature matrix.\n",
        "  y_test : np.ndarray\n",
        "  The test labels.\n",
        "  k_values : list of int\n",
        "  A list of k values to experiment with.\n",
        "  Returns:\n",
        "  dict\n",
        "  A dictionary with k values as keys and their corresponding accuracies as values.\n",
        "  \"\"\"\n",
        "  accuracies = {}\n",
        "  for k in k_values:\n",
        "    # Make predictions using the current value of k\n",
        "    predictions = knn_predict(X_test, X_train, y_train, k=k)\n",
        "    # Compute the accuracy\n",
        "    accuracy = compute_accuracy(y_test, predictions)\n",
        "    accuracies[k] = accuracy\n",
        "    print(f\"Accuracy for k={k}: {accuracy:.2f}%\")\n",
        "  # Plot the accuracies\n",
        "  plt.figure(figsize=(10, 5))\n",
        "  plt.plot(k_values, list(accuracies.values()), marker='o')\n",
        "  plt.xlabel('k (Number of Neighbors)')\n",
        "  plt.ylabel('Accuracy (%)')\n",
        "  plt.title('Accuracy of KNN with Different Values of k')\n",
        "  plt.grid(True)\n",
        "  plt.show()\n",
        "  return accuracies\n",
        "# Define the range of k values to experiment with\n",
        "k_values = range(1, 21) # You can adjust this range as needed\n",
        "# Run the experiment\n",
        "try:\n",
        "  accuracies = experiment_knn_k_values(X_train, y_train, X_test, y_test, k_values)\n",
        "  print(\"Experiment completed. Check the plot for the accuracy trend.\")\n",
        "except Exception as e:\n",
        "  print(f\"An unexpected error occurred during the experiment: {e}\")"
      ],
      "metadata": {
        "colab": {
          "base_uri": "https://localhost:8080/",
          "height": 852
        },
        "id": "MRIXrDXJQfov",
        "outputId": "e0d8b5fe-dcbd-4dc5-d7f0-bf7d7dc55b4c"
      },
      "execution_count": null,
      "outputs": [
        {
          "output_type": "stream",
          "name": "stdout",
          "text": [
            "Accuracy for k=1: 58.43%\n",
            "Accuracy for k=2: 62.55%\n",
            "Accuracy for k=3: 61.80%\n",
            "Accuracy for k=4: 63.30%\n",
            "Accuracy for k=5: 64.42%\n",
            "Accuracy for k=6: 64.42%\n",
            "Accuracy for k=7: 65.17%\n",
            "Accuracy for k=8: 64.42%\n",
            "Accuracy for k=9: 65.17%\n",
            "Accuracy for k=10: 64.04%\n",
            "Accuracy for k=11: 64.04%\n",
            "Accuracy for k=12: 64.79%\n",
            "Accuracy for k=13: 64.79%\n",
            "Accuracy for k=14: 65.92%\n",
            "Accuracy for k=15: 65.17%\n",
            "Accuracy for k=16: 65.92%\n",
            "Accuracy for k=17: 66.67%\n",
            "Accuracy for k=18: 66.29%\n",
            "Accuracy for k=19: 67.79%\n",
            "Accuracy for k=20: 64.79%\n"
          ]
        },
        {
          "output_type": "display_data",
          "data": {
            "text/plain": [
              "<Figure size 1000x500 with 1 Axes>"
            ],
            "image/png": "[encoded data removed]"
          },
          "metadata": {}
        },
        {
          "output_type": "stream",
          "name": "stdout",
          "text": [
            "Experiment completed. Check the plot for the accuracy trend.\n"
          ]
        }
      ]
    },
    {
      "cell_type": "markdown",
      "source": [
        "##To - Do Exercise:"
      ],
      "metadata": {
        "id": "X1x8coSvTykg"
      }
    },
    {
      "cell_type": "markdown",
      "source": [
        "For the provided dataset:\n",
        "\n",
        "• diabetes.csv\n",
        "\n",
        "Complete the following Problems."
      ],
      "metadata": {
        "id": "OfnsQElRT05X"
      }
    },
    {
      "cell_type": "markdown",
      "source": [
        "Problem - 1: Perform a classification task with knn from scratch.\n",
        "1. Load the Dataset:\n",
        "\n",
        "• Read the dataset into a pandas DataFrame.\n",
        "\n",
        "• Display the first few rows and perform exploratory data analysis (EDA) to understand the dataset\n",
        "(e.g., check data types, missing values, summary statistics).\n"
      ],
      "metadata": {
        "id": "W9KJwFJ3T9KI"
      }
    },
    {
      "cell_type": "code",
      "source": [
        "import pandas as pd\n",
        "\n",
        "# Load the dataset\n",
        "data = pd.read_csv(\"/content/drive/MyDrive/Concepts and Technologies of AI/Datasets/Datasets/diabetes.csv\")\n",
        "\n",
        "# Display the first few rows\n",
        "print(\"Dataset Preview:\")\n",
        "print(data.head())\n",
        "\n",
        "# Perform exploratory data analysis\n",
        "print(\"\\nDataset Info:\")\n",
        "print(data.info())\n",
        "\n",
        "print(\"\\nSummary Statistics:\")\n",
        "print(data.describe())\n",
        "\n",
        "# Check for missing values\n",
        "print(\"\\nMissing Values:\")\n",
        "print(data.isnull().sum())\n"
      ],
      "metadata": {
        "colab": {
          "base_uri": "https://localhost:8080/"
        },
        "id": "CVWoRvpIVH4K",
        "outputId": "fd407ba5-105a-4629-99aa-259713e57b1d"
      },
      "execution_count": null,
      "outputs": [
        {
          "output_type": "stream",
          "name": "stdout",
          "text": [
            "Dataset Preview:\n",
            "   Pregnancies  Glucose  BloodPressure  SkinThickness  Insulin   BMI  \\\n",
            "0            6      148             72             35        0  33.6   \n",
            "1            1       85             66             29        0  26.6   \n",
            "2            8      183             64              0        0  23.3   \n",
            "3            1       89             66             23       94  28.1   \n",
            "4            0      137             40             35      168  43.1   \n",
            "\n",
            "   DiabetesPedigreeFunction  Age  Outcome  \n",
            "0                     0.627   50        1  \n",
            "1                     0.351   31        0  \n",
            "2                     0.672   32        1  \n",
            "3                     0.167   21        0  \n",
            "4                     2.288   33        1  \n",
            "\n",
            "Dataset Info:\n",
            "<class 'pandas.core.frame.DataFrame'>\n",
            "RangeIndex: 768 entries, 0 to 767\n",
            "Data columns (total 9 columns):\n",
            " #   Column                    Non-Null Count  Dtype  \n",
            "---  ------                    --------------  -----  \n",
            " 0   Pregnancies               768 non-null    int64  \n",
            " 1   Glucose                   768 non-null    int64  \n",
            " 2   BloodPressure             768 non-null    int64  \n",
            " 3   SkinThickness             768 non-null    int64  \n",
            " 4   Insulin                   768 non-null    int64  \n",
            " 5   BMI                       768 non-null    float64\n",
            " 6   DiabetesPedigreeFunction  768 non-null    float64\n",
            " 7   Age                       768 non-null    int64  \n",
            " 8   Outcome                   768 non-null    int64  \n",
            "dtypes: float64(2), int64(7)\n",
            "memory usage: 54.1 KB\n",
            "None\n",
            "\n",
            "Summary Statistics:\n",
            "       Pregnancies     Glucose  BloodPressure  SkinThickness     Insulin  \\\n",
            "count   768.000000  768.000000     768.000000     768.000000  768.000000   \n",
            "mean      3.845052  120.894531      69.105469      20.536458   79.799479   \n",
            "std       3.369578   31.972618      19.355807      15.952218  115.244002   \n",
            "min       0.000000    0.000000       0.000000       0.000000    0.000000   \n",
            "25%       1.000000   99.000000      62.000000       0.000000    0.000000   \n",
            "50%       3.000000  117.000000      72.000000      23.000000   30.500000   \n",
            "75%       6.000000  140.250000      80.000000      32.000000  127.250000   \n",
            "max      17.000000  199.000000     122.000000      99.000000  846.000000   \n",
            "\n",
            "              BMI  DiabetesPedigreeFunction         Age     Outcome  \n",
            "count  768.000000                768.000000  768.000000  768.000000  \n",
            "mean    31.992578                  0.471876   33.240885    0.348958  \n",
            "std      7.884160                  0.331329   11.760232    0.476951  \n",
            "min      0.000000                  0.078000   21.000000    0.000000  \n",
            "25%     27.300000                  0.243750   24.000000    0.000000  \n",
            "50%     32.000000                  0.372500   29.000000    0.000000  \n",
            "75%     36.600000                  0.626250   41.000000    1.000000  \n",
            "max     67.100000                  2.420000   81.000000    1.000000  \n",
            "\n",
            "Missing Values:\n",
            "Pregnancies                 0\n",
            "Glucose                     0\n",
            "BloodPressure               0\n",
            "SkinThickness               0\n",
            "Insulin                     0\n",
            "BMI                         0\n",
            "DiabetesPedigreeFunction    0\n",
            "Age                         0\n",
            "Outcome                     0\n",
            "dtype: int64\n"
          ]
        }
      ]
    },
    {
      "cell_type": "markdown",
      "source": [
        "2. Handle Missing Data:\n",
        "\n",
        "• Handle any missing values appropriately, either by dropping or imputing them based on the data."
      ],
      "metadata": {
        "id": "n2zX-6l6UEKA"
      }
    },
    {
      "cell_type": "code",
      "source": [
        "for column in data.columns:\n",
        "    if data[column].isnull().sum() / len(data) * 100 > 10:\n",
        "        # Fill missing values with the mean if > 10% missing\n",
        "        data[column].fillna(data[column].mean(), inplace=True)\n",
        "    else:\n",
        "        # Drop rows with missing values if <= 10% missing\n",
        "        data.dropna(subset=[column], inplace=True)\n",
        "\n",
        "print(\"\\nMissing values after processing:\\n\", data.isnull().sum())"
      ],
      "metadata": {
        "colab": {
          "base_uri": "https://localhost:8080/"
        },
        "id": "fb5ccsNkVLzv",
        "outputId": "60c3ca17-7dd2-4b28-b990-a5f1e5228d71"
      },
      "execution_count": null,
      "outputs": [
        {
          "output_type": "stream",
          "name": "stdout",
          "text": [
            "\n",
            "Missing values after processing:\n",
            " Pregnancies                 0\n",
            "Glucose                     0\n",
            "BloodPressure               0\n",
            "SkinThickness               0\n",
            "Insulin                     0\n",
            "BMI                         0\n",
            "DiabetesPedigreeFunction    0\n",
            "Age                         0\n",
            "Outcome                     0\n",
            "dtype: int64\n"
          ]
        }
      ]
    },
    {
      "cell_type": "markdown",
      "source": [
        "3. Feature Engineering:\n",
        "\n",
        "• Separate the feature matrix (X) and target variable (y).\n",
        "\n",
        "• Perform a train - test split from scratch using a 70% − 30% ratio.\n"
      ],
      "metadata": {
        "id": "JIzW6KzzUHdf"
      }
    },
    {
      "cell_type": "code",
      "source": [
        "import numpy as np\n",
        "\n",
        "# Separate features (X) and target (y)\n",
        "X = data.drop(columns=['Outcome']).values\n",
        "y = data['Outcome'].values\n",
        "\n",
        "# Define a custom train-test split function\n",
        "def train_test_split_scratch(X, y, test_size=0.3, random_seed=42):\n",
        "    np.random.seed(random_seed)\n",
        "    indices = np.arange(X.shape[0])\n",
        "    np.random.shuffle(indices)\n",
        "    test_split_size = int(len(X) * test_size)\n",
        "    test_indices = indices[:test_split_size]\n",
        "    train_indices = indices[test_split_size:]\n",
        "    X_train, X_test = X[train_indices], X[test_indices]\n",
        "    y_train, y_test = y[train_indices], y[test_indices]\n",
        "    return X_train, X_test, y_train, y_test\n",
        "\n",
        "# Perform train-test split\n",
        "X_train, X_test, y_train, y_test = train_test_split_scratch(X, y, test_size=0.3)\n",
        "print(\"\\nTrain-Test Split Shapes:\")\n",
        "print(f\"X_train: {X_train.shape}, X_test: {X_test.shape}\")\n",
        "print(f\"y_train: {y_train.shape}, y_test: {y_test.shape}\")"
      ],
      "metadata": {
        "colab": {
          "base_uri": "https://localhost:8080/"
        },
        "id": "dNgVhCAiVQbC",
        "outputId": "ff2e5a34-a840-4663-bbd7-a126a2bdd5cb"
      },
      "execution_count": null,
      "outputs": [
        {
          "output_type": "stream",
          "name": "stdout",
          "text": [
            "\n",
            "Train-Test Split Shapes:\n",
            "X_train: (538, 8), X_test: (230, 8)\n",
            "y_train: (538,), y_test: (230,)\n"
          ]
        }
      ]
    },
    {
      "cell_type": "markdown",
      "source": [
        "\n",
        "4. Implement KNN:\n",
        "\n",
        "• Build the KNN algorithm from scratch (no libraries like sickit-learn for KNN).\n",
        "\n",
        "• Compute distances using Euclidean distance."
      ],
      "metadata": {
        "id": "l4FEeVBwUKqg"
      }
    },
    {
      "cell_type": "code",
      "source": [
        "def euclidean_distance(point1, point2):\n",
        "    return np.sqrt(np.sum((point1 - point2) ** 2))"
      ],
      "metadata": {
        "id": "TQLbqMiMV7T6"
      },
      "execution_count": null,
      "outputs": []
    },
    {
      "cell_type": "markdown",
      "source": [
        "• Write functions for:\n",
        "\n",
        "  – Predicting the class for a single query.\n",
        "\n",
        "  – Predicting classes for all test samples.\n",
        "  \n"
      ],
      "metadata": {
        "id": "dzJZGoJkWQVg"
      }
    },
    {
      "cell_type": "code",
      "source": [
        "def knn_predict_single(query, X_train, y_train, k=3):\n",
        "    distances = [euclidean_distance(query, x) for x in X_train]\n",
        "    sorted_indices = np.argsort(distances)\n",
        "    nearest_labels = y_train[sorted_indices[:k]]\n",
        "    prediction = np.bincount(nearest_labels).argmax()\n",
        "    return prediction\n",
        "\n",
        "def knn_predict(X_test, X_train, y_train, k=3):\n",
        "    return np.array([knn_predict_single(x, X_train, y_train, k) for x in X_test])"
      ],
      "metadata": {
        "id": "-XMdfZU-V81o"
      },
      "execution_count": null,
      "outputs": []
    },
    {
      "cell_type": "markdown",
      "source": [
        "• Evaluate the performance using accuracy."
      ],
      "metadata": {
        "id": "IUyR0JOdWRxQ"
      }
    },
    {
      "cell_type": "code",
      "source": [
        "def compute_accuracy(y_true, y_pred):\n",
        "    return (np.sum(y_true == y_pred) / len(y_true)) * 100\n",
        "\n",
        "# Make predictions and compute accuracy\n",
        "predictions = knn_predict(X_test, X_train, y_train, k=3)\n",
        "accuracy = compute_accuracy(y_test, predictions)\n",
        "\n",
        "print(f\"\\nAccuracy on Test Set (k=3): {accuracy:.2f}%\")"
      ],
      "metadata": {
        "colab": {
          "base_uri": "https://localhost:8080/"
        },
        "id": "hj8Xo8vmV_WQ",
        "outputId": "d6015b62-1e57-42d9-88f2-68756daab6d9"
      },
      "execution_count": null,
      "outputs": [
        {
          "output_type": "stream",
          "name": "stdout",
          "text": [
            "\n",
            "Accuracy on Test Set (k=3): 67.39%\n"
          ]
        }
      ]
    },
    {
      "cell_type": "markdown",
      "source": [
        "Problem - 2 - Experimentation:\n",
        "1. Repeat the Classification Task:\n",
        "\n",
        "• Scale the Feature matrix X.\n",
        "\n",
        "• Use the scaled data for training and testing the kNN Classifier.\n",
        "\n",
        "• Record the results."
      ],
      "metadata": {
        "id": "8V-HaOUlUOiy"
      }
    },
    {
      "cell_type": "code",
      "source": [
        "from sklearn.preprocessing import MinMaxScaler\n",
        "\n",
        "# Scale the features using MinMaxScaler\n",
        "scaler = MinMaxScaler()\n",
        "X_scaled = scaler.fit_transform(X)\n",
        "\n",
        "# Perform train-test split on scaled data\n",
        "X_train_scaled, X_test_scaled, y_train_scaled, y_test_scaled = train_test_split_scratch(X_scaled, y, test_size=0.3)\n"
      ],
      "metadata": {
        "id": "K4D7-7DdWWeZ"
      },
      "execution_count": null,
      "outputs": []
    },
    {
      "cell_type": "markdown",
      "source": [
        "2. Comparative Analysis: Compare the Results -\n",
        "\n",
        "• Compare the accuracy and performance of the kNN model on the original dataset from problem 1\n",
        "versus the scaled dataset.\n",
        "\n",
        "• Discuss:\n",
        "  – How scaling impacted the KNN performance.\n",
        "  \n",
        "  – The reason for any observed changes in accuracy."
      ],
      "metadata": {
        "id": "lmY0b7EaUW6Q"
      }
    },
    {
      "cell_type": "code",
      "source": [
        "# Predictions and accuracy for scaled data\n",
        "predictions_scaled = knn_predict(X_test_scaled, X_train_scaled, y_train_scaled, k=3)\n",
        "accuracy_scaled = compute_accuracy(y_test_scaled, predictions_scaled)\n",
        "\n",
        "print(f\"Accuracy on Scaled Data (k=3): {accuracy_scaled:.2f}%\")"
      ],
      "metadata": {
        "colab": {
          "base_uri": "https://localhost:8080/"
        },
        "id": "tumo8v5yWX-p",
        "outputId": "3dd61e70-46ba-49b6-e41b-a335f8c64965"
      },
      "execution_count": null,
      "outputs": [
        {
          "output_type": "stream",
          "name": "stdout",
          "text": [
            "Accuracy on Scaled Data (k=3): 69.13%\n"
          ]
        }
      ]
    },
    {
      "cell_type": "markdown",
      "source": [
        "Problem - 3 - Experimentation with k:\n",
        "\n",
        "1. Vary the number of neighbors - k:\n",
        "\n",
        "• Run the KNN model on both the original and scaled datasets for a range of:\n",
        "\n",
        "k= 1, 2, 3, . . . 15\n",
        "\n",
        "• For each k, record:\n",
        "\n",
        "  – Accuracy.\n",
        "  \n",
        "  – Time taken to make predictions."
      ],
      "metadata": {
        "id": "EWbpRuLSWizr"
      }
    },
    {
      "cell_type": "code",
      "source": [
        "import time\n",
        "import matplotlib.pyplot as plt\n",
        "\n",
        "k_values = range(1, 16)\n",
        "accuracies_original = []\n",
        "accuracies_scaled = []\n",
        "times_original = []\n",
        "times_scaled = []\n",
        "\n",
        "for k in k_values:\n",
        "    # Measure time and accuracy for original data\n",
        "    start = time.time()\n",
        "    predictions = knn_predict(X_test, X_train, y_train, k)\n",
        "    times_original.append(time.time() - start)\n",
        "    accuracies_original.append(compute_accuracy(y_test, predictions))\n",
        "\n",
        "    # Measure time and accuracy for scaled data\n",
        "    start = time.time()\n",
        "    predictions_scaled = knn_predict(X_test_scaled, X_train_scaled, y_train_scaled, k)\n",
        "    times_scaled.append(time.time() - start)\n",
        "    accuracies_scaled.append(compute_accuracy(y_test_scaled, predictions_scaled))"
      ],
      "metadata": {
        "id": "rGxLyXxSWuRI"
      },
      "execution_count": null,
      "outputs": []
    },
    {
      "cell_type": "markdown",
      "source": [
        "2. Visualize the Results:\n",
        "\n",
        "• Plot the following graphs:\n",
        "\n",
        "  – k vs. Accuracy for original and scaled datasets.\n",
        "\n",
        "  – k vs. Time Taken for original and scaled datasets.\n"
      ],
      "metadata": {
        "id": "9M7jteUvW1gQ"
      }
    },
    {
      "cell_type": "code",
      "source": [
        "# Plot k vs Accuracy\n",
        "plt.figure(figsize=(8, 4))\n",
        "plt.plot(k_values, accuracies_original, label='Original Data', marker='o')\n",
        "plt.plot(k_values, accuracies_scaled, label='Scaled Data', marker='x')\n",
        "plt.xlabel('k (Number of Neighbors)')\n",
        "plt.ylabel('Accuracy (%)')\n",
        "plt.title('k vs Accuracy')\n",
        "plt.legend()\n",
        "plt.grid(True)\n",
        "plt.show()\n",
        "\n",
        "# Plot k vs Time\n",
        "plt.figure(figsize=(8, 4))\n",
        "plt.plot(k_values, times_original, label='Original Data', marker='o')\n",
        "plt.plot(k_values, times_scaled, label='Scaled Data', marker='x')\n",
        "plt.xlabel('k (Number of Neighbors)')\n",
        "plt.ylabel('Time (seconds)')\n",
        "plt.title('k vs Time')\n",
        "plt.legend()\n",
        "plt.grid(True)\n",
        "plt.show()"
      ],
      "metadata": {
        "colab": {
          "base_uri": "https://localhost:8080/",
          "height": 803
        },
        "id": "H390CVEZWwHL",
        "outputId": "552d0441-27ae-4880-9631-cafa5de0583f"
      },
      "execution_count": null,
      "outputs": [
        {
          "output_type": "display_data",
          "data": {
            "text/plain": [
              "<Figure size 800x400 with 1 Axes>"
            ],
            "image/png": "[encoded data removed]"
          },
          "metadata": {}
        },
        {
          "output_type": "display_data",
          "data": {
            "text/plain": [
              "<Figure size 800x400 with 1 Axes>"
            ],
            "image/png": "[encoded data removed]"
          },
          "metadata": {}
        }
      ]
    },
    {
      "cell_type": "markdown",
      "source": [
        "3. Analyze and Discuss:\n",
        "  • Discuss how the choice of k affects the accuracy and computational cost.\n",
        "\n",
        "  • Identify the optimal k based on your analysis."
      ],
      "metadata": {
        "id": "_QL2W12yW23I"
      }
    },
    {
      "cell_type": "markdown",
      "source": [
        "The accuracy and computing cost of the k-Nearest Neighbors (k-NN) method are greatly impacted by the choice of k. The model is highly dependent on the closest neighbors when k is small, such k=1 or k=2, which leaves it vulnerable to noise and data outliers. This frequently results in overfitting even while it enables the model to grasp intricate decision boundaries and local trends. In contrast, the model smoothes decision boundaries and lessens the impact of noise when k is big, such as k=10 or more, by averaging the contribution of numerous neighbors. The model may underfit as a result of this generalization, overlooking significant fine-grained patterns in the data.\n",
        "\n",
        "Because the method must sort more neighbors to reach the top k, raising k lengthens the prediction time from a computing standpoint. With a smaller k, predictions are made more quickly since fewer neighbors must be assessed. However, sorting a larger subset of distances is necessary for bigger values of k, which raises the computing cost. These trade-offs are balanced by the optimal value of k. Moderate values, such k=5 to k=7, offer the best performance, obtaining excellent accuracy while keeping computation times acceptable, according to empirical studies. Accuracy tends to plateau or marginally decline beyond this range, and computing costs increase.\n",
        "\n",
        "\n"
      ],
      "metadata": {
        "id": "oDAPInaBA6dQ"
      }
    }
  ]
}