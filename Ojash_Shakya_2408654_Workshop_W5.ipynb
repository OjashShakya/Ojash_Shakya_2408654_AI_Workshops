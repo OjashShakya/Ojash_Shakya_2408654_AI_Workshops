{
  "nbformat": 4,
  "nbformat_minor": 0,
  "metadata": {
    "colab": {
      "provenance": [],
      "mount_file_id": "1Mz3yydLViPV2-Ryd3c7XZxAxE0BHMsbh",
      "authorship_tag": "ABX9TyPYkcroXLcAwE4VAuBpJIr2",
      "include_colab_link": true
    },
    "kernelspec": {
      "name": "python3",
      "display_name": "Python 3"
    },
    "language_info": {
      "name": "python"
    }
  },
  "cells": [
    {
      "cell_type": "markdown",
      "metadata": {
        "id": "view-in-github",
        "colab_type": "text"
      },
      "source": [
        "<a href=\"https://colab.research.google.com/github/OjashShakya/Ojash_Shakya_2408654_AI_Workshops/blob/main/Ojash_Shakya_2408654_Workshop_W5.ipynb\" target=\"_parent\"><img src=\"https://colab.research.google.com/assets/colab-badge.svg\" alt=\"Open In Colab\"/></a>"
      ]
    },
    {
      "cell_type": "markdown",
      "source": [
        "Name: Ojash Shakya\n",
        "\n",
        "ID: 2408654"
      ],
      "metadata": {
        "id": "gWVi_-OKZSRO"
      }
    },
    {
      "cell_type": "markdown",
      "source": [
        "##Building Simple Linear Regression from Scratch."
      ],
      "metadata": {
        "id": "p2Jauh63ZZcM"
      }
    },
    {
      "cell_type": "markdown",
      "source": [
        "Implementation from Scratch Step - by - Step Guide:\n",
        "\n",
        "Step -1- Data Understanding, Analysis and Preparations:\n",
        "\n",
        "In this step we will read the data, understand the data, perform some basic data cleaning, and store everything in the matrix as shown below.\n",
        "\n",
        "• Requirements:\n",
        "\n",
        "  Dataset → student.csv\n",
        "\n",
        "• Decision Process:\n",
        "\n",
        "  In this step we will define the objective of the task.\n",
        "\n",
        "  – Objective of the Task -\n",
        "\n",
        "  To Predict the marks obtained in writing based on the marks of Math and Reading.\n",
        "\n",
        "• To - Do - 1:\n",
        "1. Read and Observe the Dataset.\n",
        "2. Print top(5) and bottom(5) of the dataset {Hint: pd.head and pd.tail}.\n",
        "3. Print the Information of Datasets. {Hint: pd.info}.\n",
        "4. Gather the Descriptive info about the Dataset. {Hint: pd.describe}\n",
        "5. Split your data into Feature (X) and Label (Y)."
      ],
      "metadata": {
        "id": "9GMSTS-3ZfT8"
      }
    },
    {
      "cell_type": "markdown",
      "source": [
        "• To - Do - 2:\n",
        "1. To make the task easier - let’s assume there is no bias or intercept.\n",
        "2. Create the following matrices:\n",
        "\n",
        "  Y = W^T X\n",
        "\n",
        "3. Note: The feature matrix described above does not include a column of 1s, as it assumes the\n",
        "absence of a bias term in the model."
      ],
      "metadata": {
        "id": "0kyxTc24Z40m"
      }
    },
    {
      "cell_type": "code",
      "execution_count": 22,
      "metadata": {
        "id": "E5XU23M4KuYx"
      },
      "outputs": [],
      "source": [
        "import numpy as np\n",
        "import pandas as pd\n",
        "import matplotlib.pyplot as plt\n",
        "\n",
        "def load_and_prepare_data(file_path):\n",
        "    \"\"\"\n",
        "    Load the dataset and prepare features (X) and target (Y).\n",
        "\n",
        "    Parameters:\n",
        "        file_path (str): Path to the dataset CSV file.\n",
        "\n",
        "    Returns:\n",
        "        X_train, X_test, Y_train, Y_test: Split datasets for training and testing.\n",
        "    \"\"\"\n",
        "    data = pd.read_csv(file_path)\n",
        "    print(\"Top 5 rows of the dataset:\")\n",
        "    print(data.head())\n",
        "    print(\"Bottom 5 rows of the dataset:\")\n",
        "    print(data.tail())\n",
        "    print(\"\\nDataset Information:\")\n",
        "    print(data.info())\n",
        "    print(\"\\nDescriptive Statistics:\")\n",
        "    print(data.describe())\n",
        "\n",
        "    X = data[[\"Math\", \"Reading\"]].values  # Features: Math and Reading marks\n",
        "    Y = data[\"Writing\"].values  # Target: Writing marks\n",
        "\n",
        "    # Split the dataset manually (80% train, 20% test)\n",
        "    split_idx = int(0.8 * len(X))\n",
        "    X_train, X_test = X[:split_idx], X[split_idx:]\n",
        "    Y_train, Y_test = Y[:split_idx], Y[split_idx:]\n",
        "\n",
        "    return X_train, X_test, Y_train, Y_test"
      ]
    },
    {
      "cell_type": "markdown",
      "source": [
        "Step -2- Build a Cost Function:\n",
        "Cost function is the average of loss function measured across the data point. As the cost function for Regression\n",
        "problem we will be using Mean Square Error which is given by:\n",
        "\n",
        "Feel free to build your own code or complete the following code:"
      ],
      "metadata": {
        "id": "x__YiF2jYAMB"
      }
    },
    {
      "cell_type": "code",
      "source": [
        "def cost_function(X, Y, W):\n",
        "    \"\"\"\n",
        "    Calculate the Mean Squared Error (MSE).\n",
        "\n",
        "    Parameters:\n",
        "        X (numpy.ndarray): Feature matrix.\n",
        "        Y (numpy.ndarray): Target vector.\n",
        "        W (numpy.ndarray): Weight vector.\n",
        "\n",
        "    Returns:\n",
        "        cost (float): Mean Squared Error.\n",
        "    \"\"\"\n",
        "    m = len(Y)\n",
        "    Y_pred = np.dot(X, W)\n",
        "    cost = (1 / (2 * m)) * np.sum((Y_pred - Y) ** 2)\n",
        "    return cost"
      ],
      "metadata": {
        "id": "SfFdW3LecHOF"
      },
      "execution_count": 23,
      "outputs": []
    },
    {
      "cell_type": "markdown",
      "source": [
        "Step -3- Gradient Descent for Simple Linear Regression:"
      ],
      "metadata": {
        "id": "0g7YEsw6cJhs"
      }
    },
    {
      "cell_type": "code",
      "source": [
        "def gradient_descent(X, Y, W, alpha, iterations):\n",
        "    \"\"\"\n",
        "    Perform gradient descent to optimize weights.\n",
        "\n",
        "    Parameters:\n",
        "        X (numpy.ndarray): Feature matrix.\n",
        "        Y (numpy.ndarray): Target vector.\n",
        "        W (numpy.ndarray): Initial weights.\n",
        "        alpha (float): Learning rate.\n",
        "        iterations (int): Number of iterations.\n",
        "\n",
        "    Returns:\n",
        "        W (numpy.ndarray): Optimized weights.\n",
        "        cost_history (list): Cost values over iterations.\n",
        "    \"\"\"\n",
        "    m = len(Y)\n",
        "    cost_history = []\n",
        "\n",
        "    for i in range(iterations):\n",
        "        Y_pred = np.dot(X, W)\n",
        "        loss = Y_pred - Y\n",
        "        gradient = (1 / m) * np.dot(X.T, loss)\n",
        "        W -= alpha * gradient\n",
        "        cost = cost_function(X, Y, W)\n",
        "        cost_history.append(cost)\n",
        "\n",
        "    return W, cost_history"
      ],
      "metadata": {
        "id": "ABv-UYQrcJxt"
      },
      "execution_count": 24,
      "outputs": []
    },
    {
      "cell_type": "markdown",
      "source": [
        "Step -4- Evaluate the Model:"
      ],
      "metadata": {
        "id": "A-KXaVU2cMX2"
      }
    },
    {
      "cell_type": "code",
      "source": [
        "def rmse(Y, Y_pred):\n",
        "    \"\"\"\n",
        "    Calculate Root Mean Squared Error (RMSE).\n",
        "\n",
        "    Parameters:\n",
        "        Y (numpy.ndarray): Actual target values.\n",
        "        Y_pred (numpy.ndarray): Predicted target values.\n",
        "\n",
        "    Returns:\n",
        "        rmse (float): Root Mean Squared Error.\n",
        "    \"\"\"\n",
        "    return np.sqrt(np.mean((Y - Y_pred) ** 2))\n",
        "\n",
        "def r2(Y, Y_pred):\n",
        "    \"\"\"\n",
        "    Calculate R-squared value.\n",
        "\n",
        "    Parameters:\n",
        "        Y (numpy.ndarray): Actual target values.\n",
        "        Y_pred (numpy.ndarray): Predicted target values.\n",
        "\n",
        "    Returns:\n",
        "        r2 (float): R-squared value.\n",
        "    \"\"\"\n",
        "    ss_total = np.sum((Y - np.mean(Y)) ** 2)\n",
        "    ss_residual = np.sum((Y - Y_pred) ** 2)\n",
        "    return 1 - (ss_residual / ss_total)"
      ],
      "metadata": {
        "id": "aUl9Sfv1cMrE"
      },
      "execution_count": 25,
      "outputs": []
    },
    {
      "cell_type": "markdown",
      "source": [
        "Step -5- Main Function to Integrate All Steps:\n",
        "In this section, we will create a main function that integrates the data loading, preprocessing, cost function,\n",
        "gradient descent, and model evaluation. This will help in running the entire workflow with minimal effort.\n",
        "\n",
        "• Objective:\n",
        "\n",
        "The objective of the main function is to execute the full process, from loading the data to performing\n",
        "linear regression using gradient descent and evaluating the results using metrics like RMSE and R2.\n",
        "\n",
        "• To - Do:\n",
        "\n",
        "We will define a function that:\n",
        "\n",
        "1. Loads the data and splits it into training and test sets.\n",
        "2. Prepares the feature matrix (X) and target vector (Y).\n",
        "3. Defines the weight matrix (W) and initializes the learning rate and number of iterations.\n",
        "4. Calls the gradient descent function to learn the parameters.\n",
        "5. Evaluates the model using RMSE and R2.\n",
        "\n",
        "Re-write the following code or Write your own:"
      ],
      "metadata": {
        "id": "jJkqD6VicO18"
      }
    },
    {
      "cell_type": "code",
      "source": [
        "def main():\n",
        "    \"\"\"\n",
        "    Main function to perform linear regression from data loading to evaluation.\n",
        "    \"\"\"\n",
        "    # File path to the dataset\n",
        "    file_path = \"/content/drive/MyDrive/Concepts and Technologies of AI/Datasets/Datasets/student.csv\"\n",
        "\n",
        "    # Step 1: Load and prepare data\n",
        "    X_train, X_test, Y_train, Y_test = load_and_prepare_data(file_path)\n",
        "\n",
        "    # Add a bias column to the feature matrix (intercept term)\n",
        "    X_train = np.c_[np.ones(X_train.shape[0]), X_train]\n",
        "    X_test = np.c_[np.ones(X_test.shape[0]), X_test]\n",
        "\n",
        "    # Step 2: Initialize weights and hyperparameters\n",
        "    W = np.zeros(X_train.shape[1])\n",
        "    alpha = 0.01\n",
        "    iterations = 1000\n",
        "\n",
        "    # Step 3: Perform gradient descent\n",
        "    W_optimized, cost_history = gradient_descent(X_train, Y_train, W, alpha, iterations)\n",
        "\n",
        "    # Step 4: Make predictions and evaluate the model\n",
        "    Y_pred_train = np.dot(X_train, W_optimized)\n",
        "    Y_pred_test = np.dot(X_test, W_optimized)\n",
        "\n",
        "    train_rmse = rmse(Y_train, Y_pred_train)\n",
        "    test_rmse = rmse(Y_test, Y_pred_test)\n",
        "\n",
        "    train_r2 = r2(Y_train, Y_pred_train)\n",
        "    test_r2 = r2(Y_test, Y_pred_test)\n",
        "\n",
        "    # Step 5: Output results\n",
        "    print(\"Optimized Weights:\", W_optimized)\n",
        "    print(\"Final Training RMSE:\", train_rmse)\n",
        "    print(\"Final Test RMSE:\", test_rmse)\n",
        "    print(\"Final Training R2:\", train_r2)\n",
        "    print(\"Final Test R2:\", test_r2)\n",
        "\n",
        "    # Plot cost history\n",
        "    plt.plot(range(iterations), cost_history)\n",
        "    plt.xlabel(\"Iterations\")\n",
        "    plt.ylabel(\"Cost\")\n",
        "    plt.title(\"Cost Function Convergence\")\n",
        "    plt.show()\n",
        "\n",
        "if __name__ == \"__main__\":\n",
        "    main()"
      ],
      "metadata": {
        "colab": {
          "base_uri": "https://localhost:8080/",
          "height": 1000
        },
        "id": "ssL5wMPtcPKl",
        "outputId": "9d6038b0-7f69-4a05-e9b2-5ac2950d808f"
      },
      "execution_count": 26,
      "outputs": [
        {
          "output_type": "stream",
          "name": "stdout",
          "text": [
            "Top 5 rows of the dataset:\n",
            "   Math  Reading  Writing\n",
            "0    48       68       63\n",
            "1    62       81       72\n",
            "2    79       80       78\n",
            "3    76       83       79\n",
            "4    59       64       62\n",
            "Bottom 5 rows of the dataset:\n",
            "     Math  Reading  Writing\n",
            "995    72       74       70\n",
            "996    73       86       90\n",
            "997    89       87       94\n",
            "998    83       82       78\n",
            "999    66       66       72\n",
            "\n",
            "Dataset Information:\n",
            "<class 'pandas.core.frame.DataFrame'>\n",
            "RangeIndex: 1000 entries, 0 to 999\n",
            "Data columns (total 3 columns):\n",
            " #   Column   Non-Null Count  Dtype\n",
            "---  ------   --------------  -----\n",
            " 0   Math     1000 non-null   int64\n",
            " 1   Reading  1000 non-null   int64\n",
            " 2   Writing  1000 non-null   int64\n",
            "dtypes: int64(3)\n",
            "memory usage: 23.6 KB\n",
            "None\n",
            "\n",
            "Descriptive Statistics:\n",
            "              Math      Reading      Writing\n",
            "count  1000.000000  1000.000000  1000.000000\n",
            "mean     67.290000    69.872000    68.616000\n",
            "std      15.085008    14.657027    15.241287\n",
            "min      13.000000    19.000000    14.000000\n",
            "25%      58.000000    60.750000    58.000000\n",
            "50%      68.000000    70.000000    69.500000\n",
            "75%      78.000000    81.000000    79.000000\n",
            "max     100.000000   100.000000   100.000000\n",
            "Optimized Weights: [nan nan nan]\n",
            "Final Training RMSE: nan\n",
            "Final Test RMSE: nan\n",
            "Final Training R2: nan\n",
            "Final Test R2: nan\n"
          ]
        },
        {
          "output_type": "stream",
          "name": "stderr",
          "text": [
            "/usr/local/lib/python3.10/dist-packages/numpy/core/fromnumeric.py:88: RuntimeWarning: overflow encountered in reduce\n",
            "  return ufunc.reduce(obj, axis, dtype, out, **passkwargs)\n",
            "<ipython-input-23-242051ccf788>:15: RuntimeWarning: overflow encountered in square\n",
            "  cost = (1 / (2 * m)) * np.sum((Y_pred - Y) ** 2)\n",
            "<ipython-input-24-7a7e71b4220e>:23: RuntimeWarning: invalid value encountered in subtract\n",
            "  W -= alpha * gradient\n"
          ]
        },
        {
          "output_type": "display_data",
          "data": {
            "text/plain": [
              "<Figure size 640x480 with 1 Axes>"
            ],
            "image/png": "[encoded data removed]"
          },
          "metadata": {}
        }
      ]
    }
  ]
}