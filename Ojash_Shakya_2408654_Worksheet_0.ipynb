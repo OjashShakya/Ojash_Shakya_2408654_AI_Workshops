{
  "nbformat": 4,
  "nbformat_minor": 0,
  "metadata": {
    "colab": {
      "provenance": [],
      "collapsed_sections": [
        "qcj-ThQAkYLe",
        "-C8icK1blsUu",
        "Sy7AaDZloR4-",
        "XRuPfvT-rLye",
        "cPs8Xc7qtXEa"
      ],
      "authorship_tag": "ABX9TyNhvR3B3fKVgF1ejFbJjYIb",
      "include_colab_link": true
    },
    "kernelspec": {
      "name": "python3",
      "display_name": "Python 3"
    },
    "language_info": {
      "name": "python"
    }
  },
  "cells": [
    {
      "cell_type": "markdown",
      "metadata": {
        "id": "view-in-github",
        "colab_type": "text"
      },
      "source": [
        "<a href=\"https://colab.research.google.com/github/OjashShakya/Ojash_Shakya_2408654_AI_Workshops/blob/main/Ojash_Shakya_2408654_Worksheet_0.ipynb\" target=\"_parent\"><img src=\"https://colab.research.google.com/assets/colab-badge.svg\" alt=\"Open In Colab\"/></a>"
      ]
    },
    {
      "cell_type": "markdown",
      "source": [
        "Name: Ojash Shakya\n",
        "\n",
        "Student ID: 2408654"
      ],
      "metadata": {
        "id": "KyEol4lFkIU6"
      }
    },
    {
      "cell_type": "markdown",
      "source": [
        "##Getting Started with Python\n"
      ],
      "metadata": {
        "id": "qcj-ThQAkYLe"
      }
    },
    {
      "cell_type": "markdown",
      "source": [
        "Python Version Check"
      ],
      "metadata": {
        "id": "Luv9rRnclfTu"
      }
    },
    {
      "cell_type": "code",
      "execution_count": null,
      "metadata": {
        "colab": {
          "base_uri": "https://localhost:8080/"
        },
        "id": "R-XU2AgDjZW3",
        "outputId": "23b81d65-0c88-41ec-f135-6b91b9f44cb5"
      },
      "outputs": [
        {
          "output_type": "stream",
          "name": "stdout",
          "text": [
            "Hello, World!\n",
            "Python version: 3.10.12 (main, Sep 11 2024, 15:47:36) [GCC 11.4.0]\n"
          ]
        }
      ],
      "source": [
        "import sys\n",
        "# Check Python version\n",
        "if sys.version_info.major == 3 and sys.version_info.minor >= 6:\n",
        "  print(\"Hello, World!\")\n",
        "  print(f\"Python version: {sys.version}\")\n",
        "else:\n",
        "  print(\"Please use Python 3.6 or higher.\")"
      ]
    },
    {
      "cell_type": "markdown",
      "source": [
        "##Data Types in Python\n"
      ],
      "metadata": {
        "id": "-C8icK1blsUu"
      }
    },
    {
      "cell_type": "markdown",
      "source": [
        "Some Common Data Types in Python:"
      ],
      "metadata": {
        "id": "md-sMq2klt6W"
      }
    },
    {
      "cell_type": "markdown",
      "source": [
        "Numeric:\n",
        "\n",
        "Data Types - Numeric"
      ],
      "metadata": {
        "id": "nkSSe6aPlxAH"
      }
    },
    {
      "cell_type": "code",
      "source": [
        "age = 23 #int\n",
        "pi = 3.14 #float\n",
        "temperature = -5.5 #float\n",
        "print(\"data type of variable age = \", type(age))\n",
        "print(\"data type of variable pi = \", type(pi))\n",
        "print(\"data type of variable temperature = \", type(temperature))"
      ],
      "metadata": {
        "colab": {
          "base_uri": "https://localhost:8080/"
        },
        "id": "HZaQ_SxFly_G",
        "outputId": "d9ba73f4-04e0-45ef-bdd2-af10a6b52967"
      },
      "execution_count": null,
      "outputs": [
        {
          "output_type": "stream",
          "name": "stdout",
          "text": [
            "data type of variable age =  <class 'int'>\n",
            "data type of variable pi =  <class 'float'>\n",
            "data type of variable temperature =  <class 'float'>\n"
          ]
        }
      ]
    },
    {
      "cell_type": "markdown",
      "source": [
        "Sequence:\n",
        "\n",
        "Data Types - Sequence - String"
      ],
      "metadata": {
        "id": "o-vQ8ReHl-Be"
      }
    },
    {
      "cell_type": "code",
      "source": [
        "name = \"Alice\"\n",
        "greeting = \"Hello’\"\n",
        "address = \"123 Main St\"\n",
        "print(\"data type of the variable name = \",type(name))\n",
        "print(\"data type of the variable greeting = \",type(greeting))\n",
        "print(\"data type of the variable address = \",type(address))\n",
        "# slice only one element\n",
        "print(\"The first letter of the name is:\", name[0])\n",
        "print(\"The last letter of the name is:\", name[-1])\n",
        "# slice a range of elements\n",
        "print(\"The second letter to the fourth of the name is:\", name[1:4])\n",
        "print(\"The first two letters of the name are:\", name[:2])\n",
        "print(\"Substring starting from the third letter is:\", name[2:])"
      ],
      "metadata": {
        "colab": {
          "base_uri": "https://localhost:8080/"
        },
        "id": "ySGMW9xjmGIu",
        "outputId": "28be5cac-7bb4-49d4-d788-70d1c6ed75d4"
      },
      "execution_count": null,
      "outputs": [
        {
          "output_type": "stream",
          "name": "stdout",
          "text": [
            "data type of the variable name =  <class 'str'>\n",
            "data type of the variable greeting =  <class 'str'>\n",
            "data type of the variable address =  <class 'str'>\n",
            "The first letter of the name is: A\n",
            "The last letter of the name is: e\n",
            "The second letter to the fourth of the name is: lic\n",
            "The first two letters of the name are: Al\n",
            "Substring starting from the third letter is: ice\n"
          ]
        }
      ]
    },
    {
      "cell_type": "markdown",
      "source": [
        "Data Types - Sequence - List\n",
        "\n"
      ],
      "metadata": {
        "id": "Ye4MOwodmbjO"
      }
    },
    {
      "cell_type": "code",
      "source": [
        "list1 = [1, 2, 3, 4]\n",
        "mixed_list = [12, \"Hello\", True]\n",
        "# List is mutable\n",
        "mixed_list[0] = False\n",
        "mixed_list"
      ],
      "metadata": {
        "colab": {
          "base_uri": "https://localhost:8080/"
        },
        "id": "RnUwP-1amcqv",
        "outputId": "f7a49574-670b-48b5-ee41-f566cb080972"
      },
      "execution_count": null,
      "outputs": [
        {
          "output_type": "execute_result",
          "data": {
            "text/plain": [
              "[False, 'Hello', True]"
            ]
          },
          "metadata": {},
          "execution_count": 7
        }
      ]
    },
    {
      "cell_type": "markdown",
      "source": [
        "Data Types - Sequence - Tuple\n"
      ],
      "metadata": {
        "id": "rha26f3qmXcH"
      }
    },
    {
      "cell_type": "code",
      "source": [
        "colors = ('red', 'green', 'yellow', 'blue')\n",
        "print(\"First element:\", colors[0])\n",
        "print(\"Last two elements:\", colors[2:])\n",
        "print(\"Middle two elements:\", colors[1:3])\n",
        "colors[0] = 'purple'\n",
        "colors # will generate an error as tuple is immutable."
      ],
      "metadata": {
        "id": "HLtgAYPnmYyn"
      },
      "execution_count": null,
      "outputs": []
    },
    {
      "cell_type": "markdown",
      "source": [
        "Mapping:\n",
        "\n",
        "Data Types - Sequence - Dict"
      ],
      "metadata": {
        "id": "jTI2iAuAn3j_"
      }
    },
    {
      "cell_type": "code",
      "source": [
        "person = {'name': 'John', 'age': 30, 'city': 'Pittsburgh'}\n",
        "print(f\"Hello my name is {person['name']}. I am {person['age']} years old and I live at {person['city']}.\")\n",
        "print(\"All keys:\", list(person.keys()))\n",
        "print(\"All values:\", list(person.values()))"
      ],
      "metadata": {
        "colab": {
          "base_uri": "https://localhost:8080/"
        },
        "id": "l_1deE-Mn7MP",
        "outputId": "9da4ac53-05b8-422e-f117-fdd5f3cdcdf9"
      },
      "execution_count": null,
      "outputs": [
        {
          "output_type": "stream",
          "name": "stdout",
          "text": [
            "Hello my name is John. I am 30 years old and I live at Pittsburgh.\n",
            "All keys: ['name', 'age', 'city']\n",
            "All values: ['John', 30, 'Pittsburgh']\n"
          ]
        }
      ]
    },
    {
      "cell_type": "markdown",
      "source": [
        "Set:\n",
        "\n",
        "Data Types - Set"
      ],
      "metadata": {
        "id": "WP44WGW8n-jG"
      }
    },
    {
      "cell_type": "code",
      "source": [
        "unique_numbers = {1,2,3,3,3,3,4,5}\n",
        "print(unique_numbers)"
      ],
      "metadata": {
        "colab": {
          "base_uri": "https://localhost:8080/"
        },
        "id": "BmfMdcWkoBpm",
        "outputId": "ba8d8809-5809-4e89-d4ac-16ad870a2bbb"
      },
      "execution_count": null,
      "outputs": [
        {
          "output_type": "stream",
          "name": "stdout",
          "text": [
            "{1, 2, 3, 4, 5}\n"
          ]
        }
      ]
    },
    {
      "cell_type": "markdown",
      "source": [
        "Boolean:\n",
        "\n",
        "Data Types - Boolean"
      ],
      "metadata": {
        "id": "X5DoUK5HoDW4"
      }
    },
    {
      "cell_type": "code",
      "source": [
        "is_student = True\n",
        "has_license = False\n",
        "print(\"data type of the variable is_student = \",type(is_student))\n",
        "print(\"data type of the variable has_license = \",type(has_license))"
      ],
      "metadata": {
        "colab": {
          "base_uri": "https://localhost:8080/"
        },
        "id": "Lg5c-YMMoF4X",
        "outputId": "4980289d-d928-4463-d310-cb8c90b4f526"
      },
      "execution_count": null,
      "outputs": [
        {
          "output_type": "stream",
          "name": "stdout",
          "text": [
            "data type of the variable is_student =  <class 'bool'>\n",
            "data type of the variable has_license =  <class 'bool'>\n"
          ]
        }
      ]
    },
    {
      "cell_type": "markdown",
      "source": [
        "Special:\n",
        "\n",
        "Data Types - Boolean"
      ],
      "metadata": {
        "id": "SbLpV5ABoOvQ"
      }
    },
    {
      "cell_type": "code",
      "source": [
        "result = None"
      ],
      "metadata": {
        "id": "EV8t9gZHoSU3"
      },
      "execution_count": null,
      "outputs": []
    },
    {
      "cell_type": "markdown",
      "source": [
        "##Logical Statements and Loops"
      ],
      "metadata": {
        "id": "Sy7AaDZloR4-"
      }
    },
    {
      "cell_type": "markdown",
      "source": [
        "Logical Statements:\n",
        "\n",
        "If-else Statement"
      ],
      "metadata": {
        "id": "rEZq8hKvokf-"
      }
    },
    {
      "cell_type": "code",
      "source": [
        "num = 10\n",
        "if num > 0:\n",
        "  print(\"Positive\")\n",
        "elif num == 0:\n",
        "  print(\"Zero\")\n",
        "else:\n",
        "  print(\"Non-positive\")"
      ],
      "metadata": {
        "colab": {
          "base_uri": "https://localhost:8080/"
        },
        "id": "YqJchs79qES7",
        "outputId": "c6e56f73-872b-4d6a-accb-c6406f2cb646"
      },
      "execution_count": null,
      "outputs": [
        {
          "output_type": "stream",
          "name": "stdout",
          "text": [
            "Positive\n"
          ]
        }
      ]
    },
    {
      "cell_type": "markdown",
      "source": [
        "Comparision Operator"
      ],
      "metadata": {
        "id": "Mp8BAhtnqPCW"
      }
    },
    {
      "cell_type": "code",
      "source": [
        "x = 5\n",
        "y = 10\n",
        "if x > 0 and y < 20:\n",
        "  print(\"Both conditions are true\")\n",
        "if x > 0 or y > 20:\n",
        "  print(\"At least one condition is true\")\n",
        "if not x == 0:\n",
        "  print(\"x is not equal to 0\")"
      ],
      "metadata": {
        "colab": {
          "base_uri": "https://localhost:8080/"
        },
        "id": "kh-Is6ttqQaG",
        "outputId": "91b1acd7-91d5-41cf-c0d6-4a5823359b31"
      },
      "execution_count": null,
      "outputs": [
        {
          "output_type": "stream",
          "name": "stdout",
          "text": [
            "Both conditions are true\n",
            "At least one condition is true\n",
            "x is not equal to 0\n"
          ]
        }
      ]
    },
    {
      "cell_type": "markdown",
      "source": [
        "Logical Operator"
      ],
      "metadata": {
        "id": "CepONDUxqYTW"
      }
    },
    {
      "cell_type": "code",
      "source": [
        "# Define two boolean variables\n",
        "a = True\n",
        "b = False\n",
        "# Using the ’and’ operator\n",
        "if a and b:\n",
        "  print(\"Both a and b are True\")\n",
        "else:\n",
        "  print(\"Either a or b is False\") # This will be printed\n",
        "# Using the ’or’ operator\n",
        "if a or b:\n",
        "  print(\"At least one of a or b is True\") # This will be printed\n",
        "else:\n",
        "  print(\"Both a and b are False\")\n",
        "# Using the ’not’ operator\n",
        "if not a:\n",
        "  print(\"a is False\") # This will not be printed\n",
        "else:\n",
        "  print(\"a is True\") # This will be printed"
      ],
      "metadata": {
        "colab": {
          "base_uri": "https://localhost:8080/"
        },
        "id": "6YHof-WOqafO",
        "outputId": "fcc90219-1672-46c1-dc12-909a9acd53c1"
      },
      "execution_count": null,
      "outputs": [
        {
          "output_type": "stream",
          "name": "stdout",
          "text": [
            "Either a or b is False\n",
            "At least one of a or b is True\n",
            "a is True\n"
          ]
        }
      ]
    },
    {
      "cell_type": "markdown",
      "source": [
        "Loops:\n",
        "\n",
        "Various Loops\n"
      ],
      "metadata": {
        "id": "oILvAsiOqjKm"
      }
    },
    {
      "cell_type": "code",
      "source": [
        "# for loop:\n",
        "fruits = [\"apple\", \"banana\",\"cherry\"]\n",
        "for fruit in fruits:\n",
        "  print(fruit)\n",
        "# While loop:\n",
        "count = 0\n",
        "while count < 5:\n",
        "  print(\"Count is:\", count)\n",
        "  count += 1\n",
        "# Break\n",
        "fruits = [\"apple\", \"banana\", \"orange\"]\n",
        "print(\"loop 1\")\n",
        "for fruit in fruits:\n",
        "  print(fruit)\n",
        "  if fruit == \"apple\":\n",
        "    break\n",
        "# Continiue\n",
        "print(\"loop 2\")\n",
        "for fruit in fruits:\n",
        "  if fruit == \"apple\":\n",
        "    continue\n",
        "  else:\n",
        "    print(fruit)"
      ],
      "metadata": {
        "colab": {
          "base_uri": "https://localhost:8080/"
        },
        "id": "tURepTY9qmDH",
        "outputId": "0beb7612-b2bd-4b47-fcf9-f085003a6979"
      },
      "execution_count": null,
      "outputs": [
        {
          "output_type": "stream",
          "name": "stdout",
          "text": [
            "apple\n",
            "banana\n",
            "cherry\n",
            "Count is: 0\n",
            "Count is: 1\n",
            "Count is: 2\n",
            "Count is: 3\n",
            "Count is: 4\n",
            "loop 1\n",
            "apple\n",
            "loop 2\n",
            "banana\n",
            "orange\n"
          ]
        }
      ]
    },
    {
      "cell_type": "markdown",
      "source": [
        "##Functions\n"
      ],
      "metadata": {
        "id": "XRuPfvT-rLye"
      }
    },
    {
      "cell_type": "markdown",
      "source": [
        "Anatomy of a Function:\n",
        "\n",
        "Correct way to Write Function"
      ],
      "metadata": {
        "id": "tguui0kcrOgG"
      }
    },
    {
      "cell_type": "code",
      "source": [
        "def add_binary(a, b):\n",
        "  '''\n",
        "  Returns the sum of two decimal numbers in binary digits.\n",
        "  Parameters:\n",
        "  a (int): A decimal integer\n",
        "  b (int): Another decimal integer\n",
        "  Returns:\n",
        "  binary_sum (str): Binary string of the sum of a and b\n",
        "  '''\n",
        "  binary_sum = bin(a+b)[2:]\n",
        "  return binary_sum\n",
        "add_binary(1,2)"
      ],
      "metadata": {
        "colab": {
          "base_uri": "https://localhost:8080/",
          "height": 36
        },
        "id": "mcZmR3eerTkA",
        "outputId": "be4662eb-df43-43d6-b6c5-b79f587dd91c"
      },
      "execution_count": null,
      "outputs": [
        {
          "output_type": "execute_result",
          "data": {
            "text/plain": [
              "'11'"
            ],
            "application/vnd.google.colaboratory.intrinsic+json": {
              "type": "string"
            }
          },
          "metadata": {},
          "execution_count": 20
        }
      ]
    },
    {
      "cell_type": "markdown",
      "source": [
        "Built - in - Functions:\n",
        "\n"
      ],
      "metadata": {
        "id": "TezadYpIr9GA"
      }
    },
    {
      "cell_type": "code",
      "source": [
        "print(\"Hello, World!\") # Output: Hello, World!\n",
        "length = len(\"Hello\") # Output: 5\n",
        "data_type = type(42) # Output: <class ’int’>\n",
        "total = sum([1, 2, 3]) # Output: 6"
      ],
      "metadata": {
        "colab": {
          "base_uri": "https://localhost:8080/"
        },
        "id": "8fNV32AHsAuW",
        "outputId": "dae9dc9c-a35b-471d-b505-5360f4aa7bfe"
      },
      "execution_count": null,
      "outputs": [
        {
          "output_type": "stream",
          "name": "stdout",
          "text": [
            "Hello, World!\n"
          ]
        }
      ]
    },
    {
      "cell_type": "markdown",
      "source": [
        "Built - in - Methods:"
      ],
      "metadata": {
        "id": "PNyzSeXMsFnB"
      }
    },
    {
      "cell_type": "code",
      "source": [
        "# str.upper(): Converts all characters in a string to uppercase.\n",
        "message = \"hello\".upper() # Output: \"HELLO\"\n",
        "print (message)\n",
        "# list.append(): Adds an element to the end of a list.\n",
        "fruits = [\"apple\", \"banana\"]\n",
        "fruits.append(\"cherry\") # Output: [\"apple\", \"banana\", \"cherry\"]\n",
        "print (fruits)\n",
        "# dict.get(): Returns the value associated with a key in a dictionary.\n",
        "info = {\"name\": \"Alice\", \"age\": 25}\n",
        "age = info.get(\"age\") # Output: 25\n",
        "print (age)"
      ],
      "metadata": {
        "colab": {
          "base_uri": "https://localhost:8080/"
        },
        "id": "t_w7Ld1psHfU",
        "outputId": "91ba8516-900a-4561-e2e5-c33f926d4f07"
      },
      "execution_count": null,
      "outputs": [
        {
          "output_type": "stream",
          "name": "stdout",
          "text": [
            "HELLO\n",
            "['apple', 'banana', 'cherry']\n",
            "25\n"
          ]
        }
      ]
    },
    {
      "cell_type": "markdown",
      "source": [
        "User - Defined - Function:"
      ],
      "metadata": {
        "id": "l018A2J1sejW"
      }
    },
    {
      "cell_type": "code",
      "source": [
        "def temperature_converter():\n",
        "    \"\"\"\n",
        "    Converts temperature between Celsius and Fahrenheit.\n",
        "    This function prompts the user to specify the conversion type (Celsius to Fahrenheit\n",
        "    or Fahrenheit to Celsius)\n",
        "    and then asks for the temperature value. It calculates and returns the converted\n",
        "    temperature.\n",
        "    Returns:\n",
        "    float: The converted temperature value.\n",
        "    \"\"\"\n",
        "    print(\"Choose conversion type:\")\n",
        "    print(\"1. Celsius to Fahrenheit\")\n",
        "    print(\"2. Fahrenheit to Celsius\")\n",
        "\n",
        "    # Get conversion choice from user\n",
        "    choice = input(\"Enter 1 or 2: \")\n",
        "\n",
        "    if choice == \"1\":\n",
        "        # Celsius to Fahrenheit conversion\n",
        "        celsius = float(input(\"Enter temperature in Celsius: \"))\n",
        "        fahrenheit = (celsius * 9/5) + 32\n",
        "        print(f\"{celsius}C is equal to {fahrenheit}F\")\n",
        "        # return fahrenheit\n",
        "    elif choice == \"2\":\n",
        "        # Fahrenheit to Celsius conversion\n",
        "        fahrenheit = float(input(\"Enter temperature in Fahrenheit: \"))\n",
        "        celsius = (fahrenheit - 32) * 5/9\n",
        "        print(f\"{fahrenheit}F is equal to {celsius}C\")\n",
        "        # return celsius\n",
        "    else:\n",
        "        print(\"Invalid choice. Please enter 1 or 2.\")\n",
        "        return None\n",
        "\n",
        "# Call the function\n",
        "temperature_converter()\n"
      ],
      "metadata": {
        "colab": {
          "base_uri": "https://localhost:8080/"
        },
        "id": "NV42JPpxsfOW",
        "outputId": "63203bf7-30c2-4df8-de25-97ecc7bd1e89"
      },
      "execution_count": null,
      "outputs": [
        {
          "output_type": "stream",
          "name": "stdout",
          "text": [
            "Choose conversion type:\n",
            "1. Celsius to Fahrenheit\n",
            "2. Fahrenheit to Celsius\n",
            "Enter 1 or 2: 1\n",
            "Enter temperature in Celsius: 26\n",
            "26.0C is equal to 78.8F\n"
          ]
        }
      ]
    },
    {
      "cell_type": "markdown",
      "source": [
        "Global and Local Variables:\n",
        "\n",
        "1. Global Varaible:"
      ],
      "metadata": {
        "id": "gMrdS9QBs_Ww"
      }
    },
    {
      "cell_type": "code",
      "source": [
        "x = 10 # Global Variable.\n",
        "def print_global():\n",
        "  print(x) # Accessing global variable\n",
        "print_global() # Output: 10"
      ],
      "metadata": {
        "colab": {
          "base_uri": "https://localhost:8080/"
        },
        "id": "gSknW_FPtBU2",
        "outputId": "ec714963-4113-4277-f089-6407e60f8d76"
      },
      "execution_count": null,
      "outputs": [
        {
          "output_type": "stream",
          "name": "stdout",
          "text": [
            "10\n"
          ]
        }
      ]
    },
    {
      "cell_type": "markdown",
      "source": [
        "2. Local Variables:"
      ],
      "metadata": {
        "id": "Q0lPm51ytICe"
      }
    },
    {
      "cell_type": "code",
      "source": [
        "def print_local():\n",
        "  y = 5 # Local variable\n",
        "  print(y)\n",
        "print_local() # Output: 5\n",
        "print(y) # This would cause an error because y is not accessible outside the function"
      ],
      "metadata": {
        "colab": {
          "base_uri": "https://localhost:8080/"
        },
        "id": "96aPkL-VtK4H",
        "outputId": "99376423-35b8-459e-fa42-e97393940950"
      },
      "execution_count": null,
      "outputs": [
        {
          "output_type": "stream",
          "name": "stdout",
          "text": [
            "5\n",
            "10\n"
          ]
        }
      ]
    },
    {
      "cell_type": "markdown",
      "source": [
        "3. Accessing and Modifying Global Variables Inside a Function"
      ],
      "metadata": {
        "id": "tbmQjYQ_tQ3h"
      }
    },
    {
      "cell_type": "code",
      "source": [
        "x = 10 # Global variable\n",
        "def modify_global():\n",
        "  global x # Declaring x as global\n",
        "x = 20 # Modifying global x\n",
        "modify_global()\n",
        "print(x) # Output: 20"
      ],
      "metadata": {
        "colab": {
          "base_uri": "https://localhost:8080/"
        },
        "id": "0YxnkvVEtRi-",
        "outputId": "d31e449a-9635-4434-f18e-8578bd60da91"
      },
      "execution_count": null,
      "outputs": [
        {
          "output_type": "stream",
          "name": "stdout",
          "text": [
            "20\n"
          ]
        }
      ]
    },
    {
      "cell_type": "markdown",
      "source": [
        "##Exception and Error Handling\n"
      ],
      "metadata": {
        "id": "cPs8Xc7qtXEa"
      }
    },
    {
      "cell_type": "markdown",
      "source": [
        "Handling Exceptions with try-except"
      ],
      "metadata": {
        "id": "H_gJLhtptYaG"
      }
    },
    {
      "cell_type": "code",
      "source": [
        "try:\n",
        "  num = int(input(\"Enter a number: \"))\n",
        "  print(\"Result:\", 10 / num)\n",
        "except ZeroDivisionError:\n",
        "  print(\"Cannot divide by zero.\")\n",
        "except ValueError:\n",
        "  print(\"Invalid input. Please enter a number.\")"
      ],
      "metadata": {
        "colab": {
          "base_uri": "https://localhost:8080/"
        },
        "id": "Jz0XcbQrtiwP",
        "outputId": "204d481e-2d9e-4441-af97-09c9a53810e7"
      },
      "execution_count": null,
      "outputs": [
        {
          "output_type": "stream",
          "name": "stdout",
          "text": [
            "Enter a number: 0\n",
            "Cannot divide by zero.\n"
          ]
        }
      ]
    },
    {
      "cell_type": "markdown",
      "source": [
        "Using finally Block"
      ],
      "metadata": {
        "id": "5raJkwBntvaP"
      }
    },
    {
      "cell_type": "code",
      "source": [
        "try:\n",
        "    file = open(\"example.txt\", \"r\")\n",
        "    data = file.read()\n",
        "except FileNotFoundError:\n",
        "    print(\"File not found.\")\n",
        "finally:\n",
        "    file.close()  # Ensures the file is closed"
      ],
      "metadata": {
        "id": "pxAhQebbtuX_"
      },
      "execution_count": null,
      "outputs": []
    },
    {
      "cell_type": "markdown",
      "source": [
        "Raising Custom Exceptions"
      ],
      "metadata": {
        "id": "ExgIRf1huING"
      }
    },
    {
      "cell_type": "code",
      "source": [
        "def check_age(age):\n",
        "  if age < 0:\n",
        "    raise ValueError(\"Age cannot be negative.\")\n",
        "  else:\n",
        "    print(\"Valid age\")\n",
        "try:\n",
        "  check_age(-1)\n",
        "except ValueError as e:\n",
        "  print(e)"
      ],
      "metadata": {
        "colab": {
          "base_uri": "https://localhost:8080/"
        },
        "id": "DYQ76W4WuI2v",
        "outputId": "7cfaaeb2-bf5f-4996-c077-28c3f0335688"
      },
      "execution_count": null,
      "outputs": [
        {
          "output_type": "stream",
          "name": "stdout",
          "text": [
            "Age cannot be negative.\n"
          ]
        }
      ]
    },
    {
      "cell_type": "markdown",
      "source": [
        "##TO - DO - Task\n"
      ],
      "metadata": {
        "id": "PBZxLLruuSLg"
      }
    },
    {
      "cell_type": "markdown",
      "source": [
        "Warming Up Exercise:\n",
        "\n",
        "In this exercise, you’ll work with temperature data from Tribhuwan International Airport,\n",
        "Kathmandu. The data spans one month and represents typical early winter temperatures.\n",
        "\n",
        "• Datasets: The temperatures list contains daily temperature readings in Celsius for one\n",
        "month in Kathmandu. Each day includes three readings representing night (00-08),\n",
        "evening (08-16), and day (16-24) temperatures.\n",
        "\n",
        "Sample Code - List of temperature measured at Tribhuwan International Airport.\n",
        "\n",
        "temperatures = [8.2, 17.4, 14.1, 7.9, 18.0, 13.5, 9.0, 17.8, 13.0, 8.5,\n",
        "16.5, 12.9, 7.7, 17.2, 13.3, 8.4, 16.7, 14.0, 9.5, 18.3, 13.4, 8.1,\n",
        "17.9, 14.2, 7.6, 17.0, 12.8, 8.0, 16.8, 13.7, 7.8, 17.5, 13.6, 8.7,\n",
        "17.1, 13.8, 9.2, 18.1, 13.9, 8.3, 16.4, 12.7, 8.9, 18.2, 13.1, 7.8,\n",
        "16.6, 12.5]"
      ],
      "metadata": {
        "id": "hzO24kZkugHC"
      }
    },
    {
      "cell_type": "markdown",
      "source": [
        "Task 1. Classify Temperatures:\n",
        "\n",
        "1. Create empty lists for temperature classifications: (a) Cold: temperatures below 10°C. (b) Mild: temperatures between 10°C and 15°C.\n",
        "(c) Comfortable: temperatures between 15°C and 20°C.\n",
        "\n"
      ],
      "metadata": {
        "id": "nthNOG_HuoqB"
      }
    },
    {
      "cell_type": "code",
      "source": [
        "# List of temperature measured at Tribhuwan International Airport.\n",
        "temperatures = [8.2, 17.4, 14.1, 7.9, 18.0, 13.5, 9.0, 17.8, 13.0, 8.5, 16.5, 12.9, 7.7, 17.2, 13.3, 8.4, 16.7, 14.0, 9.5, 18.3, 13.4, 8.1, 17.9, 14.2, 7.6, 17.0, 12.8, 8.0, 16.8, 13.7, 7.8, 17.5, 13.6, 8.7, 17.1, 13.8, 9.2, 18.1, 13.9, 8.3, 16.4, 12.7, 8.9, 18.2, 13.1, 7.8, 16.6, 12.5]\n",
        "\n",
        "# Creating empty lists for temperature classifications\n",
        "cold = []\n",
        "mild = []\n",
        "comfortable = []"
      ],
      "metadata": {
        "id": "MgirEariu6ao"
      },
      "execution_count": null,
      "outputs": []
    },
    {
      "cell_type": "markdown",
      "source": [
        "2. Iterate over the temperatures list and add each temperature to the appropriate cate-\n",
        "gory."
      ],
      "metadata": {
        "id": "HPK_ZTWUu7Iw"
      }
    },
    {
      "cell_type": "code",
      "source": [
        "# Iterating over the temperatures list\n",
        "for temp in temperatures:\n",
        "    if temp < 10:\n",
        "        cold.append(temp)\n",
        "    elif 10 <= temp < 15:\n",
        "        mild.append(temp)\n",
        "    elif 15 <= temp <= 20:\n",
        "        comfortable.append(temp)"
      ],
      "metadata": {
        "id": "e8syxrrgu8xb"
      },
      "execution_count": null,
      "outputs": []
    },
    {
      "cell_type": "markdown",
      "source": [
        "3. Print the lists to verify the classifications."
      ],
      "metadata": {
        "id": "ALT6hDvRu9E2"
      }
    },
    {
      "cell_type": "code",
      "source": [
        "# Printing the lists to verify the classifications\n",
        "cold.sort()\n",
        "mild.sort()\n",
        "comfortable.sort()\n",
        "\n",
        "print(\"Cold Temperatures:\", cold)\n",
        "print(\"Mild Temperatures:\", mild)\n",
        "print(\"Comfortable Temperatures:\", comfortable)"
      ],
      "metadata": {
        "id": "cGNGke4qu-Gu",
        "colab": {
          "base_uri": "https://localhost:8080/"
        },
        "outputId": "d7550812-b735-41e1-e63b-f784c8b30dfc"
      },
      "execution_count": null,
      "outputs": [
        {
          "output_type": "stream",
          "name": "stdout",
          "text": [
            "Cold Temperatures: [7.6, 7.7, 7.8, 7.8, 7.9, 8.0, 8.1, 8.2, 8.3, 8.4, 8.5, 8.7, 8.9, 9.0, 9.2, 9.5]\n",
            "Mild Temperatures: [12.5, 12.7, 12.8, 12.9, 13.0, 13.1, 13.3, 13.4, 13.5, 13.6, 13.7, 13.8, 13.9, 14.0, 14.1, 14.2]\n",
            "Comfortable Temperatures: [16.4, 16.5, 16.6, 16.7, 16.8, 17.0, 17.1, 17.2, 17.4, 17.5, 17.8, 17.9, 18.0, 18.1, 18.2, 18.3]\n"
          ]
        }
      ]
    },
    {
      "cell_type": "markdown",
      "source": [
        "Task 2. Based on Data - Answer all the Questions:\n",
        "\n",
        "1. How many times was it mild? Hint: Count the number of items in the mild list and print the result."
      ],
      "metadata": {
        "id": "0eXRZlfCuuW_"
      }
    },
    {
      "cell_type": "code",
      "source": [
        "# Finding the length of the mild list\n",
        "mildLen = len(mild)\n",
        "print(f\"Number of items in mild list: {mildLen}\")"
      ],
      "metadata": {
        "colab": {
          "base_uri": "https://localhost:8080/"
        },
        "id": "AzDvNezyt-Yn",
        "outputId": "ea00b689-37d9-49d1-f3d0-f2decbed5562"
      },
      "execution_count": null,
      "outputs": [
        {
          "output_type": "stream",
          "name": "stdout",
          "text": [
            "Number of items in mild list: 16\n"
          ]
        }
      ]
    },
    {
      "cell_type": "markdown",
      "source": [
        "2. How many times was it comfortable?\n"
      ],
      "metadata": {
        "id": "rpFkc2Dqu2O3"
      }
    },
    {
      "cell_type": "code",
      "source": [
        "# Finding the length of the comfortable list\n",
        "comfortableLen = len(comfortable)\n",
        "print(f\"Number of items in comfortable list: {comfortableLen}\")"
      ],
      "metadata": {
        "colab": {
          "base_uri": "https://localhost:8080/"
        },
        "id": "jnlgLNV9u_Rg",
        "outputId": "07283404-ae62-4785-ced5-a0bf41eed450"
      },
      "execution_count": null,
      "outputs": [
        {
          "output_type": "stream",
          "name": "stdout",
          "text": [
            "Number of items in comfortable list: 16\n"
          ]
        }
      ]
    },
    {
      "cell_type": "markdown",
      "source": [
        "3. How many times was it cold?"
      ],
      "metadata": {
        "id": "GWwg7PPqu2sW"
      }
    },
    {
      "cell_type": "code",
      "source": [
        "# Finding the length of the cold list\n",
        "coldLen = len(cold)\n",
        "print(f\"Number of items in cold list: {coldLen}\")"
      ],
      "metadata": {
        "colab": {
          "base_uri": "https://localhost:8080/"
        },
        "id": "o8b0XmetvBei",
        "outputId": "595833ff-7339-4449-f55c-e5bc3634c24f"
      },
      "execution_count": null,
      "outputs": [
        {
          "output_type": "stream",
          "name": "stdout",
          "text": [
            "Number of items in cold list: 16\n"
          ]
        }
      ]
    },
    {
      "cell_type": "markdown",
      "source": [
        "Task 3. Convert Temperatures from Celsius to Fahrenheit\n",
        "\n",
        "Using the formula for temperature conversion, convert each reading from Celsius to Fahren-\n",
        "heit and store it in a new list called temperatures_fahrenheit.\n",
        "\n",
        "Formula: Fahrenheit = (Celsius × 9/5) + 32\n",
        "\n",
        "1. Iterate over the temperatures list and apply the formula to convert each temperature.\n",
        "2. Store the results in the new list.\n",
        "3. Print the converted Fahrenheit values.\n"
      ],
      "metadata": {
        "id": "W1L5S9XLxNRH"
      }
    },
    {
      "cell_type": "code",
      "source": [
        "# Creating empty lists for temperature in fahrenheit\n",
        "temperaturesInFahrenheit = []\n",
        "\n",
        "# Iterating over the temperatures list and converting to fahrenheit\n",
        "for temp in temperatures:\n",
        "    fahrenheit = (temp * 9 / 5) + 32\n",
        "    temperaturesInFahrenheit.append(fahrenheit)\n",
        "\n",
        "# Displaying the tempersatures in fahrenheit\n",
        "print(\"Temperatures in Fahrenheit:\", temperaturesInFahrenheit)"
      ],
      "metadata": {
        "colab": {
          "base_uri": "https://localhost:8080/"
        },
        "id": "CRz5lxhUxvwY",
        "outputId": "c890bc82-ec64-41b6-ff58-36055a086b1e"
      },
      "execution_count": null,
      "outputs": [
        {
          "output_type": "stream",
          "name": "stdout",
          "text": [
            "Temperatures in Fahrenheit: [46.76, 63.32, 57.379999999999995, 46.22, 64.4, 56.3, 48.2, 64.04, 55.4, 47.3, 61.7, 55.22, 45.86, 62.959999999999994, 55.94, 47.120000000000005, 62.059999999999995, 57.2, 49.1, 64.94, 56.120000000000005, 46.58, 64.22, 57.56, 45.68, 62.6, 55.04, 46.4, 62.24, 56.66, 46.04, 63.5, 56.48, 47.66, 62.78, 56.84, 48.56, 64.58, 57.02, 46.94, 61.519999999999996, 54.86, 48.02, 64.75999999999999, 55.58, 46.04, 61.88, 54.5]\n"
          ]
        }
      ]
    },
    {
      "cell_type": "markdown",
      "source": [
        "Task 4. Analyze Temperature Patterns by Time of Day:\n",
        "\n",
        "Scenario: Each day’s readings are grouped as:\n",
        "\n",
        "• Night (00-08), • Evening (08-16), • Day (16-24).\n",
        "1. Create empty lists for night, day, and evening temperatures.\n",
        "2. Iterate over the temperatures list, assigning values to each time-of-day list based on\n",
        "their position.\n",
        "3. Calculate and print the average day-time temperature.\n",
        "4. (Optional) Plot ”day vs. temperature” using matplotlib."
      ],
      "metadata": {
        "id": "1hFT_2W_xtrv"
      }
    },
    {
      "cell_type": "code",
      "source": [
        "import matplotlib.pyplot as plt\n",
        "\n",
        "# List of temperature measured at Tribhuwan International Airport.\n",
        "temperatures = [8.2, 17.4, 14.1, 7.9, 18.0, 13.5, 9.0, 17.8, 13.0, 8.5, 16.5, 12.9, 7.7, 17.2, 13.3, 8.4, 16.7, 14.0, 9.5, 18.3, 13.4, 8.1, 17.9, 14.2, 7.6, 17.0, 12.8, 8.0, 16.8, 13.7, 7.8, 17.5, 13.6, 8.7, 17.1, 13.8, 9.2, 18.1, 13.9, 8.3, 16.4, 12.7, 8.9, 18.2, 13.1, 7.8, 16.6, 12.5]\n",
        "\n",
        "# Creating empty lists for night, evening, and day temperatures\n",
        "nightTemp = []\n",
        "eveningTemp = []\n",
        "dayTemp = []\n",
        "\n",
        "# Iterating over the sample temperatures list\n",
        "for temp in temperatures:\n",
        "  if temp>=16 and temp<=24:\n",
        "    dayTemp.append(temp)\n",
        "  elif temp>=8 and temp<16:\n",
        "    eveningTemp.append(temp)\n",
        "  else:\n",
        "    nightTemp.append(temp)\n",
        "\n",
        "# Using .sort() to sort the temperatures\n",
        "# nightTemp.sort()\n",
        "# eveningTemp.sort()\n",
        "# dayTemp.sort()\n",
        "\n",
        "# Calculating the average day-time temperature using sum() function\n",
        "averageTemp = sum(dayTemp) / len(dayTemp)\n",
        "\n",
        "print(\"Night Temperatures:\", nightTemp)\n",
        "print(\"Evening Temperatures:\", eveningTemp)\n",
        "print(\"Day Temperatures:\", dayTemp)\n",
        "print(\"Average Day-time Temperature:\", averageTemp)\n",
        "\n",
        "dayList = list(range(1,len(dayTemp)+1))\n",
        "\n",
        "plt.figure(figsize=(10, 6))\n",
        "plt.plot(dayList, dayTemp, marker='o', color='orange', linestyle='-', markersize=8)\n",
        "\n",
        "plt.xlabel('Day')\n",
        "plt.ylabel('Temperature (°C)')\n",
        "plt.title('Day vs. Temperature')\n",
        "\n",
        "plt.grid()\n",
        "plt.show()"
      ],
      "metadata": {
        "colab": {
          "base_uri": "https://localhost:8080/",
          "height": 633
        },
        "id": "MQgKR3z7xwDn",
        "outputId": "d762456e-a7a2-484b-92c7-0aa2334e3d11"
      },
      "execution_count": null,
      "outputs": [
        {
          "output_type": "stream",
          "name": "stdout",
          "text": [
            "Night Temperatures: [7.9, 7.7, 7.6, 7.8, 7.8]\n",
            "Evening Temperatures: [8.2, 14.1, 13.5, 9.0, 13.0, 8.5, 12.9, 13.3, 8.4, 14.0, 9.5, 13.4, 8.1, 14.2, 12.8, 8.0, 13.7, 13.6, 8.7, 13.8, 9.2, 13.9, 8.3, 12.7, 8.9, 13.1, 12.5]\n",
            "Day Temperatures: [17.4, 18.0, 17.8, 16.5, 17.2, 16.7, 18.3, 17.9, 17.0, 16.8, 17.5, 17.1, 18.1, 16.4, 18.2, 16.6]\n",
            "Average Day-time Temperature: 17.343750000000004\n"
          ]
        },
        {
          "output_type": "display_data",
          "data": {
            "text/plain": [
              "<Figure size 1000x600 with 1 Axes>"
            ],
            "image/png": "[encoded data removed]"
          },
          "metadata": {}
        }
      ]
    },
    {
      "cell_type": "markdown",
      "source": [
        "##Problem based on Popular Algorithm.\n",
        "\n"
      ],
      "metadata": {
        "id": "X150L7vrxu4n"
      }
    },
    {
      "cell_type": "markdown",
      "source": [
        "Recursion:\n",
        "\n",
        "Reccursive Approach for finding factorial of a Number."
      ],
      "metadata": {
        "id": "Tz8buYup0Akj"
      }
    },
    {
      "cell_type": "code",
      "source": [
        "def factorial(n):\n",
        "  '''\n",
        "  Calculate the factorial of a non-negative integer n.\n",
        "  The factorial of a number n (denoted n!) is the product of all positive integers less\n",
        "  than or equal to n.\n",
        "  Specifically:\n",
        "  - If n is 0, the factorial is defined as 1 (base case).\n",
        "  - For any positive integer n, the factorial is calculated recursively as n * (n-1)\n",
        "  * (n-2) * ... * 1.\n",
        "  Args:\n",
        "  n (int): A non-negative integer for which to calculate the factorial.\n",
        "  Returns:\n",
        "  int: The factorial of the input number n.\n",
        "  Raises:\n",
        "  ValueError: If the input n is a negative integer, as factorial is only defined for\n",
        "  non-negative integers.\n",
        "  '''\n",
        "  if n == 0: # Base case\n",
        "    return 1\n",
        "  else: # Recursive case\n",
        "    return n * factorial(n - 1)\n",
        "\n",
        "factorial(5)"
      ],
      "metadata": {
        "colab": {
          "base_uri": "https://localhost:8080/"
        },
        "id": "9HAfCflaxwnx",
        "outputId": "2c7631c8-0a2d-43a3-f17b-863eea2ff1b0"
      },
      "execution_count": null,
      "outputs": [
        {
          "output_type": "execute_result",
          "data": {
            "text/plain": [
              "120"
            ]
          },
          "metadata": {},
          "execution_count": 25
        }
      ]
    },
    {
      "cell_type": "markdown",
      "source": [
        "Exercise - Recursion:\n",
        "\n",
        "Task 1 - Sum of Nested Lists:\n",
        "\n",
        "Scenario: You have a list that contains numbers and other lists of numbers (nested lists).\n",
        "You want to find the total sum of all the numbers in this structure.\n",
        "\n",
        "Task:\n",
        "\n",
        "• Write a recursive function sum_nested_list(nested_list) that:\n",
        "1. Takes a nested list (a list that can contain numbers or other lists of numbers) as\n",
        "input.\n",
        "2. Sums all numbers at every depth level of the list, regardless of how deeply nested\n",
        "the numbers are.\n",
        "\n",
        "• Test the function with a sample nested list, such as\n",
        "\n",
        "nested_list = [1, [2, [3, 4], 5], 6, [7, 8]].\n",
        "\n",
        "The result should be the total sum of all the numbers."
      ],
      "metadata": {
        "id": "2rPTqfAK0rvp"
      }
    },
    {
      "cell_type": "code",
      "source": [
        "def sum_nested_list(nested_list):\n",
        "  \"\"\"\n",
        "  Calculate the sum of all numbers in a nested list.\n",
        "  This function takes a list that may contain integers and other nested lists.\n",
        "  It recursively traverses the list and sums all the integers, no matter how deeply\n",
        "  nested they are.\n",
        "  Args:\n",
        "  nested_list (list): A list that may contain integers or other lists of integers.\n",
        "  Returns:\n",
        "  int: The total sum of all integers in the nested list, including those in sublists\n",
        "  .\n",
        "  Example:\n",
        "  >>> sum_nested_list([1, [2, [3, 4], 5], 6, [7, 8]])\n",
        "  36\n",
        "  >>> sum_nested_list([1, [2, 3], [4, [5]]])\n",
        "  15\n",
        "  \"\"\"\n",
        "  total = 0\n",
        "  for element in nested_list:\n",
        "    if isinstance(element, list): # Check if the element is a list\n",
        "      total += sum_nested_list(element) # Recursively sum the nested list\n",
        "    else:\n",
        "      total += element # Add the number to the total\n",
        "  return total\n",
        "\n",
        "nested_list = [1, [2, [3, 4], 5], 6, [7, 8]]\n",
        "sum_nested_list(nested_list)"
      ],
      "metadata": {
        "id": "dkI0RxPS031q",
        "colab": {
          "base_uri": "https://localhost:8080/"
        },
        "outputId": "c37e3caa-96ee-4bdb-8b22-f204d8f8a5e4"
      },
      "execution_count": null,
      "outputs": [
        {
          "output_type": "execute_result",
          "data": {
            "text/plain": [
              "36"
            ]
          },
          "metadata": {},
          "execution_count": 32
        }
      ]
    },
    {
      "cell_type": "markdown",
      "source": [
        "Task 2 - Generate All Permutations of a String:\n",
        "\n",
        "Scenario: Given a string, generate all possible permutations of its characters. This is useful for understanding backtracking and recursive depth-first search.\n",
        "\n",
        "Task:\n",
        "\n",
        "• Write a recursive function generate_permutations(s) that:\n",
        "\n",
        "– Takes a string s as input and returns a list of all unique permutations.\n",
        "\n",
        "• Test with strings like ”abc” and ”aab”.\n",
        "\n",
        "print(generate_permutations(\"abc\"))\n",
        "\n",
        "Should return [’abc’, ’acb’, ’bac’, ’bca’, ’cab’, ’cba’]"
      ],
      "metadata": {
        "id": "F4rBiEsEq1ug"
      }
    },
    {
      "cell_type": "code",
      "source": [
        "def generate_permutations(s):\n",
        "  if len(s) == 1:\n",
        "    return s\n",
        "  permutations = []\n",
        "  for i in range(len(s)):\n",
        "    char = s[i]\n",
        "    remaining_chars = s[:i] + s[i+1:]\n",
        "    for perm in generate_permutations(remaining_chars):\n",
        "      permutations.append(char + perm)\n",
        "  return permutations\n",
        "\n",
        "generate_permutations(\"abc\")"
      ],
      "metadata": {
        "colab": {
          "base_uri": "https://localhost:8080/"
        },
        "id": "JGi9-0girF5A",
        "outputId": "ebc66d7a-6651-4488-8912-17a986580452"
      },
      "execution_count": null,
      "outputs": [
        {
          "output_type": "execute_result",
          "data": {
            "text/plain": [
              "['abc', 'acb', 'bac', 'bca', 'cab', 'cba']"
            ]
          },
          "metadata": {},
          "execution_count": 1
        }
      ]
    },
    {
      "cell_type": "markdown",
      "source": [
        "Task 3 - Directory Size Calculation:\n",
        "\n",
        "Directory Size Calculation Scenario: Imagine a file system where directories can contain files\n",
        "(with sizes in KB) and other directories. You want to calculate the total size of a irectory,\n",
        "including all nested files and subdirectories.\n",
        "\n",
        "Task:\n",
        "\n",
        "1. Write a recursive function calculate_directory_size(directory) where:\n",
        "\n",
        "• directory is a dictionary where keys represent file names (with values as sizes in\n",
        "KB) or directory names (with values as another dictionary representing a subdi-\n",
        "rectory).\n",
        "\n",
        "• The function should return the total size of the directory, including all nested\n",
        "subdirectories.\n",
        "\n",
        "2. Test the function with a sample directory structure."
      ],
      "metadata": {
        "id": "Ttk3uEB4rT6J"
      }
    },
    {
      "cell_type": "code",
      "source": [
        "def calculate_directory_size(directory):\n",
        "    \"\"\"\n",
        "    Recursively calculates the total size of files within a directory structure.\n",
        "\n",
        "    Args:\n",
        "        directory (dict): A dictionary representing a directory structure, where the keys are file or directory names\n",
        "                          and the values are either file sizes (integers) or nested dictionaries representing subdirectories.\n",
        "\n",
        "    Returns:\n",
        "        int: The total size of all files in the directory, including those in nested subdirectories.\n",
        "        returns 1400\n",
        "    \"\"\"\n",
        "\n",
        "    total_size = 0\n",
        "    for key, value in directory.items():\n",
        "        if isinstance(value, dict):\n",
        "            total_size += calculate_directory_size(value)\n",
        "        else:\n",
        "            total_size += value\n",
        "    return total_size\n",
        "\n",
        "directory_structure = {\n",
        "  \"file1.txt\": 200,\n",
        "  \"file2.txt\": 300,\n",
        "  \"subdir1\": {\n",
        "      \"file3.txt\": 400,\n",
        "      \"file4.txt\": 100\n",
        "  },\n",
        "  \"subdir2\": {\n",
        "      \"subsubdir1\": {\n",
        "          \"file5.txt\": 250\n",
        "      },\n",
        "      \"file6.txt\": 150\n",
        "  }\n",
        "}\n",
        "calculate_directory_size(directory_structure)"
      ],
      "metadata": {
        "colab": {
          "base_uri": "https://localhost:8080/"
        },
        "id": "zgGHJrZ4rZNK",
        "outputId": "74a4a0ac-9cdd-42f5-f043-d5de0ebc5099"
      },
      "execution_count": null,
      "outputs": [
        {
          "output_type": "execute_result",
          "data": {
            "text/plain": [
              "1400"
            ]
          },
          "metadata": {},
          "execution_count": 4
        }
      ]
    },
    {
      "cell_type": "markdown",
      "source": [
        "Dynamic Programming:"
      ],
      "metadata": {
        "id": "jIcwKrxRroUg"
      }
    },
    {
      "cell_type": "code",
      "source": [
        "def fibonacci(n, memo={}):\n",
        "  \"\"\"\n",
        "  Computes the nth Fibonacci number using memoization to optimize the recursive\n",
        "  solution.\n",
        "  This function uses memoization to store previously computed Fibonacci numbers,\n",
        "  reducing redundant calculations and improving performance.\n",
        "  Parameters:\n",
        "  n (int): The index in the Fibonacci sequence for which the value is to be computed.\n",
        "  Must be a non-negative integer.\n",
        "  memo (dict, optional): A dictionary used to store previously computed Fibonacci\n",
        "  values.\n",
        "\n",
        "  It is initialized as an empty dictionary by default and is used\n",
        "  during the recursive calls to avoid recalculating results.\n",
        "\n",
        "  Returns:\n",
        "  int: The nth Fibonacci number.\n",
        "  Example:\n",
        "  >>> fibonacci(5)\n",
        "  5\n",
        "  >>> fibonacci(10)\n",
        "  55\n",
        "  Time Complexity:\n",
        "  - The time complexity is O(n) because each Fibonacci number is computed only once.\n",
        "  Space Complexity:\n",
        "  - The space complexity is O(n) due to the memoization dictionary storing the results.\n",
        "  \"\"\"\n",
        "  if n in memo:\n",
        "    return memo[n]\n",
        "  if n <= 1:\n",
        "    return n\n",
        "  memo[n] = fibonacci(n - 1, memo) + fibonacci(n - 2, memo)\n",
        "  return memo[n]\n",
        "\n",
        "fibonacci(5)"
      ],
      "metadata": {
        "colab": {
          "base_uri": "https://localhost:8080/"
        },
        "id": "UnZEQjxRr3Gp",
        "outputId": "d7cbeec9-9bb4-4ac5-aaf6-9c3958abf481"
      },
      "execution_count": null,
      "outputs": [
        {
          "output_type": "execute_result",
          "data": {
            "text/plain": [
              "5"
            ]
          },
          "metadata": {},
          "execution_count": 6
        }
      ]
    },
    {
      "cell_type": "markdown",
      "source": [
        "Solving Fibonacci Sequnce with Tbulation {Bottom - Up Approach}."
      ],
      "metadata": {
        "id": "2JYfRB8hsJHw"
      }
    },
    {
      "cell_type": "code",
      "source": [
        "def fibonacci(n):\n",
        "  \"\"\"\n",
        "  Computes the nth Fibonacci number using dynamic programming to optimize the solution.\n",
        "  This function uses a bottom-up dynamic programming approach to calculate the nth\n",
        "  Fibonacci\n",
        "  number by iteratively building up an array of Fibonacci numbers up to n, thus\n",
        "  eliminating\n",
        "  redundant calculations and optimizing performance.\n",
        "  Parameters:\n",
        "  n (int): The index in the Fibonacci sequence for which the value is to be computed.\n",
        "  Must be a non-negative integer.\n",
        "  Returns:\n",
        "  int: The nth Fibonacci number.\n",
        "  Example:\n",
        "  >>> fibonacci(5)\n",
        "  5\n",
        "  >>> fibonacci(10)\n",
        "  55\n",
        "  Time Complexity:\n",
        "  - The time complexity is O(n), as the function iterates through the range 2 to n,\n",
        "  calculating\n",
        "  each Fibonacci number once.\n",
        "  Space Complexity:\n",
        "  - The space complexity is O(n), due to the array used to store the Fibonacci numbers\n",
        "  up to n.\n",
        "  \"\"\"\n",
        "  if n <= 1:\n",
        "    return n\n",
        "  dp = [0] * (n + 1)\n",
        "  dp[1] = 1\n",
        "  for i in range(2, n + 1):\n",
        "    dp[i] = dp[i - 1] + dp[i - 2]\n",
        "  return dp[n]\n",
        "\n",
        "fibonacci(10)"
      ],
      "metadata": {
        "colab": {
          "base_uri": "https://localhost:8080/"
        },
        "id": "gDfWYkA5sJ1I",
        "outputId": "5065468e-53d2-4c40-c5fc-c18c1c9e9bdc"
      },
      "execution_count": null,
      "outputs": [
        {
          "output_type": "execute_result",
          "data": {
            "text/plain": [
              "55"
            ]
          },
          "metadata": {},
          "execution_count": 7
        }
      ]
    },
    {
      "cell_type": "markdown",
      "source": [
        "Exercises - Dynamic Programming:\n",
        "\n",
        "Task 1 - Coin Change Problem:\n",
        "\n",
        "Scenario: Given a set of coin denominations and a target amount, find the minimum number\n",
        "of coins needed to make the amount. If it’s not possible, return - 1.\n",
        "\n",
        "Task:\n",
        "\n",
        "1. Write a function min_coins(coins, amount) that:\n",
        "\n",
        "• Uses DP to calculate the minimum number of coins needed to make up the\n",
        "amount.\n",
        "\n",
        "2. Test with coins = [1, 2, 5] and amount = 11. The result should be 3 (using coins\n",
        "[5, 5, 1])."
      ],
      "metadata": {
        "id": "QdbK8nLTsZYh"
      }
    },
    {
      "cell_type": "code",
      "source": [
        "def min_coins(coins, amount):\n",
        "  \"\"\"\n",
        "  Finds the minimum number of coins needed to make up a given amount using dynamic\n",
        "  programming.\n",
        "  This function solves the coin change problem by determining the fewest number of\n",
        "  coins from a given set of coin denominations that sum up to a target amount. The\n",
        "  solution uses dynamic programming(tabulation) to iteratively build up the minimum\n",
        "  number of coins required for each amount.\n",
        "  Parameters:\n",
        "  coins (list of int): A list of coin denominations available for making change. Each\n",
        "  coin denomination is a positive integer.\n",
        "  amount (int): The target amount for which we need to find the minimum number of coins\n",
        "  . It must be a non-negative integer.\n",
        "  Returns:\n",
        "  int: The minimum number of coins required to make the given amount.\n",
        "  If it is not possible to make the amount with the given coins, returns -1.\n",
        "  Example:\n",
        "  >>> min_coins([1, 2, 5], 11)\n",
        "  3\n",
        "  >>> min_coins([2], 3)\n",
        "  -1\n",
        "  \"\"\"\n",
        "  dp = [float('inf')] * (amount + 1)\n",
        "  dp[0] = 0\n",
        "\n",
        "  for coin in coins:\n",
        "    for i in range(coin, amount + 1):\n",
        "      dp[i] = min(dp[i], dp[i - coin] + 1)\n",
        "\n",
        "  return dp[amount] if dp[amount] != float('inf') else -1\n",
        "\n",
        "# min_coins([1,2,5],11)\n",
        "min_coins([2],3)"
      ],
      "metadata": {
        "colab": {
          "base_uri": "https://localhost:8080/"
        },
        "id": "MTqDxcgisfiD",
        "outputId": "ae07c342-1636-49cf-f81f-61aca7e84816"
      },
      "execution_count": null,
      "outputs": [
        {
          "output_type": "execute_result",
          "data": {
            "text/plain": [
              "-1"
            ]
          },
          "metadata": {},
          "execution_count": 11
        }
      ]
    },
    {
      "cell_type": "markdown",
      "source": [
        "Task 2 - Longest Common Subsequence (LCS):\n",
        "\n",
        "Scenario: Given two strings, find the length of their longest common subsequence (LCS).\n",
        "This is useful in text comparison.\n",
        "\n",
        "Task:\n",
        "\n",
        "1. Write a function longest_common_subsequence(s1, s2) that:\n",
        "\n",
        "• Uses DP to find the length of the LCS of two strings s1 and s2.\n",
        "\n",
        "2. Test with strings like \"abcde\" and \"ace\"; the LCS length should be 3 (\"ace\")."
      ],
      "metadata": {
        "id": "SxJ7QTrXtFwB"
      }
    },
    {
      "cell_type": "code",
      "source": [
        "def longest_common_subsequence(s1, s2):\n",
        "    \"\"\"\n",
        "    Finds the length of the longest common subsequence (LCS) between two strings.\n",
        "\n",
        "    The LCS problem is to find the longest subsequence that is present in both strings\n",
        "    in the same relative order, but not necessarily consecutively.\n",
        "\n",
        "    Args:\n",
        "        s1 (str): The first input string.\n",
        "        s2 (str): The second input string.\n",
        "\n",
        "    Returns:\n",
        "        int: The length of the longest common subsequence between the two strings.\n",
        "\n",
        "    Example:\n",
        "        longest_common_subsequence(\"abcde\", \"ace\")\n",
        "        returns 3, since \"ace\" is the longest common subsequence.\n",
        "    \"\"\"\n",
        "    m, n = len(s1), len(s2)\n",
        "\n",
        "    dp = [[0] * (n + 1) for _ in range(m + 1)]\n",
        "\n",
        "    for i in range(1, m + 1):\n",
        "        for j in range(1, n + 1):\n",
        "            if s1[i - 1] == s2[j - 1]:\n",
        "                dp[i][j] = dp[i - 1][j - 1] + 1\n",
        "            else:\n",
        "                dp[i][j] = max(dp[i - 1][j], dp[i][j - 1])\n",
        "\n",
        "    return dp[m][n]\n",
        "\n",
        "s1 = \"abcde\"\n",
        "s2 = \"ace\"\n",
        "\n",
        "lcs_length = longest_common_subsequence(s1, s2)\n",
        "print(\"LCS length:\", lcs_length)"
      ],
      "metadata": {
        "colab": {
          "base_uri": "https://localhost:8080/"
        },
        "id": "LfYO8ORXtL7g",
        "outputId": "22ec54c3-4ec6-4fa8-f73f-a5a123f1748c"
      },
      "execution_count": null,
      "outputs": [
        {
          "output_type": "stream",
          "name": "stdout",
          "text": [
            "LCS length: 3\n"
          ]
        }
      ]
    },
    {
      "cell_type": "markdown",
      "source": [
        "Task 3 - 0/1 Knapsack Problem:\n",
        "\n",
        "Scenario: You have a list of items, each with a weight and a value. Given a weight capacity,\n",
        "maximize the total value of items you can carry without exceeding the weight capacity.\n",
        "\n",
        "Task:\n",
        "\n",
        "1. Write a function knapsack(weights, values, capacity) that:\n",
        "\n",
        "• Uses DP to determine the maximum value that can be achieved within the given\n",
        "weight capacity.\n",
        "\n",
        "2. Test with weights [1, 3, 4, 5], values [1, 4, 5, 7], and capacity 7. The re-\n",
        "sult should be 9."
      ],
      "metadata": {
        "id": "8L8UY_xotfRR"
      }
    },
    {
      "cell_type": "code",
      "source": [
        "def knapsack(weights, values, capacity):\n",
        "    \"\"\"\n",
        "    Solves the 0/1 Knapsack Problem using dynamic programming.\n",
        "\n",
        "    The 0/1 Knapsack problem is a classic optimization problem where you are given\n",
        "    a set of items, each with a weight and a value. The goal is to determine the maximum\n",
        "    value you can carry in a knapsack of limited capacity, such that the total weight\n",
        "    of the selected items does not exceed the capacity.\n",
        "\n",
        "    Args:\n",
        "        weights (list of int): A list where each element represents the weight of an item.\n",
        "        values (list of int): A list where each element represents the value of an item.\n",
        "        capacity (int): The maximum weight capacity of the knapsack.\n",
        "\n",
        "    Returns:\n",
        "        int: The maximum total value that can be obtained by filling the knapsack\n",
        "             without exceeding the given capacity.\n",
        "\n",
        "    Example:\n",
        "        weights = [1, 3, 4, 5]\n",
        "        values = [1, 4, 5, 7]\n",
        "        capacity = 7\n",
        "        knapsack(weights, values, capacity)\n",
        "        returns 9, as the best combination is to select the items with weights 3 and 5\n",
        "        which gives the maximum value of 9.\n",
        "    \"\"\"\n",
        "    n = len(weights)\n",
        "\n",
        "    dp = [[0 for _ in range(capacity + 1)] for _ in range(n + 1)]\n",
        "\n",
        "    for i in range(1, n + 1):\n",
        "        for w in range(1, capacity + 1):\n",
        "            if weights[i - 1] <= w:\n",
        "                dp[i][w] = max(dp[i - 1][w], values[i - 1] + dp[i - 1][w - weights[i - 1]])\n",
        "            else:\n",
        "                dp[i][w] = dp[i - 1][w]\n",
        "\n",
        "    return dp[n][capacity]\n",
        "\n",
        "weights = [1, 3, 4, 5]\n",
        "values = [1, 4, 5, 7]\n",
        "capacity = 7\n",
        "\n",
        "result = knapsack(weights, values, capacity)\n",
        "print(\"Maximum value achievable:\", result)"
      ],
      "metadata": {
        "colab": {
          "base_uri": "https://localhost:8080/"
        },
        "id": "sCJ2GB5ctj5Y",
        "outputId": "5b39ea56-1c72-429e-e922-4372113c6f45"
      },
      "execution_count": null,
      "outputs": [
        {
          "output_type": "stream",
          "name": "stdout",
          "text": [
            "Maximum value achievable: 9\n"
          ]
        }
      ]
    }
  ]
}