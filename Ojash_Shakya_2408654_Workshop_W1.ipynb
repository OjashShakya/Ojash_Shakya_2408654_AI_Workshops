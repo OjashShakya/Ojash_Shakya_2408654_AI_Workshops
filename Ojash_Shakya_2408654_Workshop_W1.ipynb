{
	"nbformat": 4,
	"nbformat_minor": 0,
	"metadata": {
		"colab": {
			"provenance": [],
			"authorship_tag": "ABX9TyPNq1iJRutNA4eMAXxk7qpZ",
			"include_colab_link": true
		},
		"kernelspec": {
			"name": "python3",
			"display_name": "Python 3"
		},
		"language_info": {
			"name": "python"
		}
	},
	"cells": [
		{
			"cell_type": "markdown",
			"metadata": {
				"id": "view-in-github",
				"colab_type": "text"
			},
			"source": [
				"<a href=\"https://colab.research.google.com/github/OjashShakya/Ojash_Shakya_2408654_AI_Workshops/blob/main/Ojash_Shakya_2408654_Workshop_W1.ipynb\" target=\"_parent\"><img src=\"https://colab.research.google.com/assets/colab-badge.svg\" alt=\"Open In Colab\"/></a>"
			]
		},
		{
			"cell_type": "markdown",
			"source": [
				"Name: Ojash Shakya\n",
				"\n",
				"ID: 2408654"
			],
			"metadata": {
				"id": "hNHrvgZW4yEf"
			}
		},
		{
			"cell_type": "markdown",
			"source": [
				"##TO - DO - Task"
			],
			"metadata": {
				"id": "Z_ig705qt3Lk"
			}
		},
		{
			"cell_type": "markdown",
			"source": [
				"Problem - 1: Array Creation:\n",
				"\n",
				"Complete the following Tasks:\n",
				"1. Initialize an empty array with size 2X2."
			],
			"metadata": {
				"id": "zxn315vQt9pa"
			}
		},
		{
			"cell_type": "code",
			"source": [
				"import numpy as np\n",
				"\n",
				"emptyArray = np.zeros((2, 2))\n",
				"print(\"Empty array (2x2) filled with zeros:\\n\", emptyArray)"
			],
			"metadata": {
				"colab": {
					"base_uri": "https://localhost:8080/"
				},
				"id": "oEWGdMrDt6N6",
				"outputId": "da1438d0-f9ed-4f99-dcdb-8db39adf7026"
			},
			"execution_count": null,
			"outputs": [
				{
					"output_type": "stream",
					"name": "stdout",
					"text": [
						"Empty array (2x2) filled with zeros:\n",
						" [[0. 0.]\n",
						" [0. 0.]]\n"
					]
				}
			]
		},
		{
			"cell_type": "markdown",
			"source": [
				"2. Initialize an all one array with size 4X2."
			],
			"metadata": {
				"id": "Vl3ZCh_c2NRV"
			}
		},
		{
			"cell_type": "code",
			"source": [
				"oncesArray = np.ones((4, 2))\n",
				"print(\"All ones array (4x2):\\n\", oncesArray)"
			],
			"metadata": {
				"colab": {
					"base_uri": "https://localhost:8080/"
				},
				"id": "YrEXJ36Y2Nzo",
				"outputId": "a8b65cba-23a9-41e9-9572-6e8cc4662809"
			},
			"execution_count": null,
			"outputs": [
				{
					"output_type": "stream",
					"name": "stdout",
					"text": [
						"All ones array (4x2):\n",
						" [[1. 1.]\n",
						" [1. 1.]\n",
						" [1. 1.]\n",
						" [1. 1.]]\n"
					]
				}
			]
		},
		{
			"cell_type": "markdown",
			"source": [
				"3. Return a new array of given shape and type, filled with fill value.{Hint: np.full}"
			],
			"metadata": {
				"id": "LKzvnDoJ2Rxu"
			}
		},
		{
			"cell_type": "code",
			"source": [
				"fillArray = np.full((3, 3), 7)\n",
				"print(\"Array filled with 7 (3x3):\\n\", fillArray)"
			],
			"metadata": {
				"colab": {
					"base_uri": "https://localhost:8080/"
				},
				"id": "KN_pCCm02SON",
				"outputId": "a08d3aa7-9598-47fa-c6d0-e8b71d8af570"
			},
			"execution_count": null,
			"outputs": [
				{
					"output_type": "stream",
					"name": "stdout",
					"text": [
						"Array filled with 7 (3x3):\n",
						" [[7 7 7]\n",
						" [7 7 7]\n",
						" [7 7 7]]\n"
					]
				}
			]
		},
		{
			"cell_type": "markdown",
			"source": [
				"4. Return a new array of zeros with same shape and type as a given array.{Hint: np.zeros like}"
			],
			"metadata": {
				"id": "IXDmEaaG2UQ9"
			}
		},
		{
			"cell_type": "code",
			"source": [
				"givenArray = np.array([[1, 2, 3], [4, 5, 6]])\n",
				"emptyArray = np.zeros_like(givenArray)\n",
				"print(\"Zeros array with same shape as given array:\\n\", emptyArray)"
			],
			"metadata": {
				"colab": {
					"base_uri": "https://localhost:8080/"
				},
				"id": "N9Z2cphX2UqV",
				"outputId": "97ae5a08-4ce9-4578-ea54-26e81f3c6139"
			},
			"execution_count": null,
			"outputs": [
				{
					"output_type": "stream",
					"name": "stdout",
					"text": [
						"Zeros array with same shape as given array:\n",
						" [[0 0 0]\n",
						" [0 0 0]]\n"
					]
				}
			]
		},
		{
			"cell_type": "markdown",
			"source": [
				"5. Return a new array of ones with same shape and type as a given array.{Hint: np.ones like}\n"
			],
			"metadata": {
				"id": "4VZUBgsW2XdW"
			}
		},
		{
			"cell_type": "code",
			"source": [
				"ones_like_array = np.ones_like(given_array)\n",
				"print(\"Ones array with same shape as given array:\\n\", ones_like_array)"
			],
			"metadata": {
				"colab": {
					"base_uri": "https://localhost:8080/"
				},
				"id": "Ycu-aLHA2X3W",
				"outputId": "f0f506e3-a253-48b6-8cf3-508b1d901087"
			},
			"execution_count": null,
			"outputs": [
				{
					"output_type": "stream",
					"name": "stdout",
					"text": [
						"Ones array with same shape as given array:\n",
						" [[1 1 1]\n",
						" [1 1 1]]\n"
					]
				}
			]
		},
		{
			"cell_type": "markdown",
			"source": [
				"6. For an existing list new_list = [1,2,3,4] convert to an numpy array.{Hint: np.array()}"
			],
			"metadata": {
				"id": "EoS7epQi2Z3_"
			}
		},
		{
			"cell_type": "code",
			"source": [
				"new_list = [1, 2, 3, 4]\n",
				"numpy_array = np.array(new_list)\n",
				"print(\"Numpy array from list:\\n\", numpy_array)"
			],
			"metadata": {
				"colab": {
					"base_uri": "https://localhost:8080/"
				},
				"id": "xlYBEYZ-2aNG",
				"outputId": "8c23f47b-1078-4746-b109-7110f31f5b7b"
			},
			"execution_count": null,
			"outputs": [
				{
					"output_type": "stream",
					"name": "stdout",
					"text": [
						"Numpy array from list:\n",
						" [1 2 3 4]\n"
					]
				}
			]
		},
		{
			"cell_type": "markdown",
			"source": [
				"Problem - 2: Array Manipulation: Numerical Ranges and Array indexing:\n",
				"\n",
				"Complete the following tasks:\n",
				"1. Create an array with values ranging from 10 to 49. {Hint:np.arrange()}.\n",
				"2. Create a 3X3 matrix with values ranging from 0 to 8.\n",
				"{Hint:look for np.reshape()}\n",
				"3. Create a 3X3 identity matrix.{Hint:np.eye()}\n",
				"4. Create a random array of size 30 and find the mean of the array.\n",
				"{Hint:check for np.random.random() and array.mean() function}\n",
				"5. Create a 10X10 array with random values and find the minimum and maximum values.\n",
				"6. Create a zero array of size 10 and replace 5th element with 1.\n",
				"7. Reverse an array arr = [1,2,0,0,4,0].\n",
				"8. Create a 2d array with 1 on border and 0 inside.\n",
				"9. Create a 8X8 matrix and fill it with a checkerboard pattern."
			],
			"metadata": {
				"id": "JF_sh90TuHwS"
			}
		},
		{
			"cell_type": "code",
			"source": [
				"array_10_49 = np.arange(10, 50)\n",
				"print(\"Array from 10 to 49:\\n\", array_10_49)"
			],
			"metadata": {
				"colab": {
					"base_uri": "https://localhost:8080/"
				},
				"id": "5QEqhmUZuK6y",
				"outputId": "5524b10d-cc26-4b22-e986-1fbb0533565b"
			},
			"execution_count": null,
			"outputs": [
				{
					"output_type": "stream",
					"name": "stdout",
					"text": [
						"Array from 10 to 49:\n",
						" [10 11 12 13 14 15 16 17 18 19 20 21 22 23 24 25 26 27 28 29 30 31 32 33\n",
						" 34 35 36 37 38 39 40 41 42 43 44 45 46 47 48 49]\n"
					]
				}
			]
		},
		{
			"cell_type": "markdown",
			"source": [],
			"metadata": {
				"id": "1DnpHxb45cPS"
			}
		},
		{
			"cell_type": "code",
			"source": [
				"matrix_3x3 = np.arange(0, 9).reshape(3, 3)\n",
				"print(\"3x3 matrix:\\n\", matrix_3x3)"
			],
			"metadata": {
				"colab": {
					"base_uri": "https://localhost:8080/"
				},
				"id": "jVZQAdwy5czP",
				"outputId": "16367275-1eb7-4a18-ff35-c61bc70528ae"
			},
			"execution_count": null,
			"outputs": [
				{
					"output_type": "stream",
					"name": "stdout",
					"text": [
						"3x3 matrix:\n",
						" [[0 1 2]\n",
						" [3 4 5]\n",
						" [6 7 8]]\n"
					]
				}
			]
		},
		{
			"cell_type": "code",
			"source": [
				"identity_matrix = np.eye(3)\n",
				"print(\"3x3 identity matrix:\\n\", identity_matrix)"
			],
			"metadata": {
				"colab": {
					"base_uri": "https://localhost:8080/"
				},
				"id": "YO9IGj_T5h02",
				"outputId": "4492739b-1ff3-4705-d529-b9a1003a7e32"
			},
			"execution_count": null,
			"outputs": [
				{
					"output_type": "stream",
					"name": "stdout",
					"text": [
						"3x3 identity matrix:\n",
						" [[1. 0. 0.]\n",
						" [0. 1. 0.]\n",
						" [0. 0. 1.]]\n"
					]
				}
			]
		},
		{
			"cell_type": "code",
			"source": [],
			"metadata": {
				"id": "EGSS91Ks5m0e"
			},
			"execution_count": null,
			"outputs": []
		},
		{
			"cell_type": "markdown",
			"source": [
				"Problem - 3: Array Operations:\n",
				"\n",
				"For the following arrays:\n",
				"\n",
				"x = np.array([[1,2],[3,5]]) and y = np.array([[5,6],[7,8]]);\n",
				"\n",
				"v = np.array([9,10]) and w = np.array([11,12]);\n",
				"\n",
				"Complete all the task using numpy:\n",
				"1. Add the two array.\n",
				"2. Subtract the two array.\n",
				"3. Multiply the array with any integers of your choice.\n",
				"4. Find the square of each element of the array.\n",
				"5. Find the dot product between: v(and)w ; x(and)v ; x(and)y.\n",
				"6. Concatenate x(and)y along row and Concatenate v(and)w along column.\n",
				"{Hint:try np.concatenate() or np.vstack() functions.\n",
				"7. Concatenate x(and)v; if you get an error, observe and explain why did you get the error?"
			],
			"metadata": {
				"id": "1rICZsi8uNGC"
			}
		}
	]
}
