{
  "nbformat": 4,
  "nbformat_minor": 0,
  "metadata": {
    "colab": {
      "provenance": [],
      "authorship_tag": "ABX9TyNced+lGPx7+KTDckik4HPl",
      "include_colab_link": true
    },
    "kernelspec": {
      "name": "python3",
      "display_name": "Python 3"
    },
    "language_info": {
      "name": "python"
    }
  },
  "cells": [
    {
      "cell_type": "markdown",
      "metadata": {
        "id": "view-in-github",
        "colab_type": "text"
      },
      "source": [
        "<a href=\"https://colab.research.google.com/github/OjashShakya/Ojash_Shakya_2408654_AI_Workshops/blob/main/Ojash_Shakya_2408654_Workshop_W1.ipynb\" target=\"_parent\"><img src=\"https://colab.research.google.com/assets/colab-badge.svg\" alt=\"Open In Colab\"/></a>"
      ]
    },
    {
      "cell_type": "markdown",
      "source": [
        "Name: Ojash Shakya\n",
        "\n",
        "ID: 2408654"
      ],
      "metadata": {
        "id": "hNHrvgZW4yEf"
      }
    },
    {
      "cell_type": "markdown",
      "source": [
        "##TO - DO - Task"
      ],
      "metadata": {
        "id": "Z_ig705qt3Lk"
      }
    },
    {
      "cell_type": "markdown",
      "source": [
        "Problem - 1: Array Creation:\n",
        "\n",
        "Complete the following Tasks:\n",
        "1. Initialize an empty array with size 2X2."
      ],
      "metadata": {
        "id": "zxn315vQt9pa"
      }
    },
    {
      "cell_type": "code",
      "source": [
        "import numpy as np\n",
        "\n",
        "emptyArray = np.zeros((2, 2))\n",
        "print(emptyArray)"
      ],
      "metadata": {
        "colab": {
          "base_uri": "https://localhost:8080/"
        },
        "id": "oEWGdMrDt6N6",
        "outputId": "37499514-8c98-4571-8e31-01e55e1fee02"
      },
      "execution_count": 6,
      "outputs": [
        {
          "output_type": "stream",
          "name": "stdout",
          "text": [
            "[[0. 0.]\n",
            " [0. 0.]]\n"
          ]
        }
      ]
    },
    {
      "cell_type": "markdown",
      "source": [
        "2. Initialize an all one array with size 4X2."
      ],
      "metadata": {
        "id": "Vl3ZCh_c2NRV"
      }
    },
    {
      "cell_type": "code",
      "source": [
        "oncesArray = np.ones((4, 2))\n",
        "print(oncesArray)"
      ],
      "metadata": {
        "colab": {
          "base_uri": "https://localhost:8080/"
        },
        "id": "YrEXJ36Y2Nzo",
        "outputId": "01e7900c-e3c1-49d1-9dde-31b7698a0ad8"
      },
      "execution_count": 2,
      "outputs": [
        {
          "output_type": "stream",
          "name": "stdout",
          "text": [
            "[[1. 1.]\n",
            " [1. 1.]\n",
            " [1. 1.]\n",
            " [1. 1.]]\n"
          ]
        }
      ]
    },
    {
      "cell_type": "markdown",
      "source": [
        "3. Return a new array of given shape and type, filled with fill value.{Hint: np.full}"
      ],
      "metadata": {
        "id": "LKzvnDoJ2Rxu"
      }
    },
    {
      "cell_type": "code",
      "source": [
        "fillArray = np.full((2, 3), 4)\n",
        "print(fillArray)"
      ],
      "metadata": {
        "colab": {
          "base_uri": "https://localhost:8080/"
        },
        "id": "KN_pCCm02SON",
        "outputId": "0a28910e-6a49-4565-d177-0e68caaef2d4"
      },
      "execution_count": 5,
      "outputs": [
        {
          "output_type": "stream",
          "name": "stdout",
          "text": [
            "[[4 4 4]\n",
            " [4 4 4]]\n"
          ]
        }
      ]
    },
    {
      "cell_type": "markdown",
      "source": [
        "4. Return a new array of zeros with same shape and type as a given array.{Hint: np.zeros like}"
      ],
      "metadata": {
        "id": "IXDmEaaG2UQ9"
      }
    },
    {
      "cell_type": "code",
      "source": [
        "sampleArray = np.array([[1, 2, 3], [4, 5, 6]])\n",
        "newArray = np.zeros_like(sampleArray)\n",
        "print(newArray)"
      ],
      "metadata": {
        "colab": {
          "base_uri": "https://localhost:8080/"
        },
        "id": "N9Z2cphX2UqV",
        "outputId": "3b3532e5-b822-4d45-b1da-c0fdecb608ab"
      },
      "execution_count": 6,
      "outputs": [
        {
          "output_type": "stream",
          "name": "stdout",
          "text": [
            "[[0 0 0]\n",
            " [0 0 0]]\n"
          ]
        }
      ]
    },
    {
      "cell_type": "markdown",
      "source": [
        "5. Return a new array of ones with same shape and type as a given array.{Hint: np.ones like}\n"
      ],
      "metadata": {
        "id": "4VZUBgsW2XdW"
      }
    },
    {
      "cell_type": "code",
      "source": [
        "sampleArray = np.array([[1, 2, 3], [4, 5, 6]])\n",
        "newArray = np.ones_like(sampleArray)\n",
        "print(newArray)"
      ],
      "metadata": {
        "colab": {
          "base_uri": "https://localhost:8080/"
        },
        "id": "Ycu-aLHA2X3W",
        "outputId": "af4c5453-e521-4e40-ae3c-cb5bf1c4b4dc"
      },
      "execution_count": 9,
      "outputs": [
        {
          "output_type": "stream",
          "name": "stdout",
          "text": [
            "[[1 1 1]\n",
            " [1 1 1]]\n"
          ]
        }
      ]
    },
    {
      "cell_type": "markdown",
      "source": [
        "6. For an existing list new_list = [1,2,3,4] convert to an numpy array.{Hint: np.array()}"
      ],
      "metadata": {
        "id": "EoS7epQi2Z3_"
      }
    },
    {
      "cell_type": "code",
      "source": [
        "new_list = [1, 2, 3, 4]\n",
        "numpyArray = np.array(new_list)\n",
        "print(numpyArray)"
      ],
      "metadata": {
        "colab": {
          "base_uri": "https://localhost:8080/"
        },
        "id": "xlYBEYZ-2aNG",
        "outputId": "37929263-87f5-4c65-a3e5-49b9e4842425"
      },
      "execution_count": 10,
      "outputs": [
        {
          "output_type": "stream",
          "name": "stdout",
          "text": [
            "[1 2 3 4]\n"
          ]
        }
      ]
    },
    {
      "cell_type": "markdown",
      "source": [
        "Problem - 2: Array Manipulation: Numerical Ranges and Array indexing:\n",
        "\n",
        "Complete the following tasks:\n",
        "1. Create an array with values ranging from 10 to 49. {Hint:np.arrange()}."
      ],
      "metadata": {
        "id": "JF_sh90TuHwS"
      }
    },
    {
      "cell_type": "code",
      "source": [
        "arrayRange = np.arange(10, 50)\n",
        "print(arrayRange)"
      ],
      "metadata": {
        "colab": {
          "base_uri": "https://localhost:8080/"
        },
        "id": "5QEqhmUZuK6y",
        "outputId": "e0b6836e-12bd-4d21-9025-e538ac581f0e"
      },
      "execution_count": 11,
      "outputs": [
        {
          "output_type": "stream",
          "name": "stdout",
          "text": [
            "[10 11 12 13 14 15 16 17 18 19 20 21 22 23 24 25 26 27 28 29 30 31 32 33\n",
            " 34 35 36 37 38 39 40 41 42 43 44 45 46 47 48 49]\n"
          ]
        }
      ]
    },
    {
      "cell_type": "markdown",
      "source": [
        "2. Create a 3X3 matrix with values ranging from 0 to 8.\n",
        "{Hint:look for np.reshape()}"
      ],
      "metadata": {
        "id": "1DnpHxb45cPS"
      }
    },
    {
      "cell_type": "code",
      "source": [
        "arrayMatrix = np.arange(0, 9).reshape(3, 3)\n",
        "print(arrayMatrix)"
      ],
      "metadata": {
        "colab": {
          "base_uri": "https://localhost:8080/"
        },
        "id": "jVZQAdwy5czP",
        "outputId": "043344fe-f521-4946-fb44-9837656e07ce"
      },
      "execution_count": 12,
      "outputs": [
        {
          "output_type": "stream",
          "name": "stdout",
          "text": [
            "[[0 1 2]\n",
            " [3 4 5]\n",
            " [6 7 8]]\n"
          ]
        }
      ]
    },
    {
      "cell_type": "markdown",
      "source": [
        "3. Create a 3X3 identity matrix.{Hint:np.eye()}"
      ],
      "metadata": {
        "id": "VC_9jXlmQ7o-"
      }
    },
    {
      "cell_type": "code",
      "source": [
        "indentityMatrix = np.eye(3)\n",
        "print(indentityMatrix)"
      ],
      "metadata": {
        "colab": {
          "base_uri": "https://localhost:8080/"
        },
        "id": "YO9IGj_T5h02",
        "outputId": "1c98d433-8552-45a9-cf6b-0f83f5f710fa"
      },
      "execution_count": 14,
      "outputs": [
        {
          "output_type": "stream",
          "name": "stdout",
          "text": [
            "[[1. 0. 0.]\n",
            " [0. 1. 0.]\n",
            " [0. 0. 1.]]\n"
          ]
        }
      ]
    },
    {
      "cell_type": "markdown",
      "source": [
        "4. Create a random array of size 30 and find the mean of the array.\n",
        "{Hint:check for np.random.random() and array.mean() function}\n"
      ],
      "metadata": {
        "id": "oOpTloVDQ9_9"
      }
    },
    {
      "cell_type": "code",
      "source": [
        "randomArray = np.random.random(30)\n",
        "mean = randomArray.mean()\n",
        "print(randomArray)\n",
        "print(\"Mean: \", mean)"
      ],
      "metadata": {
        "id": "EGSS91Ks5m0e",
        "colab": {
          "base_uri": "https://localhost:8080/"
        },
        "outputId": "8c9094d6-c690-4ebd-8fcb-6d86e353d1f8"
      },
      "execution_count": 17,
      "outputs": [
        {
          "output_type": "stream",
          "name": "stdout",
          "text": [
            "[0.08891948 0.01155932 0.52018782 0.51488596 0.69528421 0.45627514\n",
            " 0.42720661 0.34401951 0.36764997 0.7257646  0.04681978 0.71837785\n",
            " 0.14211965 0.75203536 0.29078469 0.57686195 0.49900242 0.7250378\n",
            " 0.35104402 0.75135959 0.74823351 0.07838031 0.29159124 0.06131009\n",
            " 0.26072862 0.81097789 0.42002321 0.49217635 0.3471863  0.34052602]\n",
            "Mean:  0.4285443095733265\n"
          ]
        }
      ]
    },
    {
      "cell_type": "markdown",
      "source": [
        "5. Create a 10X10 array with random values and find the minimum and maximum values."
      ],
      "metadata": {
        "id": "myJYDD8PRCz2"
      }
    },
    {
      "cell_type": "code",
      "source": [
        "randomArray = np.random.random((10, 10))\n",
        "min_value = randomArray.min();\n",
        "max_value = randomArray.max();\n",
        "print(randomArray);\n",
        "print(\"\\nRandom Matrix Min:\", min_value, \"Max:\", max_value);"
      ],
      "metadata": {
        "colab": {
          "base_uri": "https://localhost:8080/"
        },
        "id": "naplyJn0R5Hv",
        "outputId": "a92d7dcc-6523-4fce-becc-d048d43fd2eb"
      },
      "execution_count": 20,
      "outputs": [
        {
          "output_type": "stream",
          "name": "stdout",
          "text": [
            "[[7.27466985e-01 9.61113393e-01 6.23435280e-01 9.46899029e-01\n",
            "  5.99913706e-02 8.34889843e-01 3.48231824e-02 6.05318086e-01\n",
            "  5.22642131e-01 3.95153633e-02]\n",
            " [9.75227993e-01 3.21070648e-01 5.07551113e-01 1.97697509e-01\n",
            "  8.47561480e-02 1.19737419e-01 8.30472582e-01 3.21998985e-01\n",
            "  2.77956902e-01 4.39843006e-04]\n",
            " [7.31224852e-01 5.62860520e-01 7.18293393e-01 6.00890496e-01\n",
            "  7.73974471e-01 1.27543876e-02 4.67041051e-02 7.41019271e-02\n",
            "  3.22326333e-01 2.29024224e-01]\n",
            " [1.35910062e-01 1.76510634e-01 8.34943332e-01 5.95521882e-01\n",
            "  1.59671437e-01 4.17646022e-01 8.52255773e-01 7.18782309e-01\n",
            "  6.48249907e-01 3.04054927e-01]\n",
            " [6.06365046e-02 1.43806238e-01 1.83005683e-01 9.18832293e-01\n",
            "  3.96735014e-01 9.53253057e-01 9.34080314e-01 7.14331972e-01\n",
            "  7.93654987e-01 5.54624822e-01]\n",
            " [5.98781187e-01 4.93735389e-01 9.58913569e-01 3.68414423e-02\n",
            "  1.19862797e-01 3.92109488e-01 8.90362654e-01 5.56269095e-01\n",
            "  8.62969554e-01 9.64961046e-02]\n",
            " [3.14265713e-01 7.00347655e-01 5.02004487e-01 7.57136740e-02\n",
            "  1.07603073e-02 6.21436210e-01 2.40601866e-02 4.35679021e-01\n",
            "  1.87070412e-01 1.44505652e-01]\n",
            " [8.89252973e-01 5.46357053e-02 3.25809908e-01 4.67752315e-01\n",
            "  1.40968983e-01 5.02146741e-01 4.94360031e-02 4.82429685e-01\n",
            "  8.25317455e-01 1.63031811e-02]\n",
            " [7.48269742e-01 8.82136084e-01 8.65705293e-01 9.81457627e-01\n",
            "  9.37382903e-01 5.62050745e-01 5.03848796e-01 7.12370264e-01\n",
            "  3.19305155e-01 4.00722872e-02]\n",
            " [2.46655364e-01 3.89020436e-01 9.91013411e-01 7.87392903e-01\n",
            "  8.11961183e-01 1.07661439e-01 7.52824591e-01 2.38689559e-01\n",
            "  5.11303952e-01 7.07034571e-01]]\n",
            "\n",
            "Random Matrix Min: 0.00043984300615207417 Max: 0.991013411446316\n"
          ]
        }
      ]
    },
    {
      "cell_type": "markdown",
      "source": [
        "6. Create a zero array of size 10 and replace 5th element with 1.\n"
      ],
      "metadata": {
        "id": "TSaXf-yVR5Z1"
      }
    },
    {
      "cell_type": "code",
      "source": [
        "zeroArray = np.zeros(10)\n",
        "zeroArray[0] = 1\n",
        "print(zeroArray)"
      ],
      "metadata": {
        "colab": {
          "base_uri": "https://localhost:8080/"
        },
        "id": "2BLkbGIhSj6_",
        "outputId": "079e097e-39fd-4e3a-a1af-23e703897280"
      },
      "execution_count": 22,
      "outputs": [
        {
          "output_type": "stream",
          "name": "stdout",
          "text": [
            "[1. 0. 0. 0. 0. 0. 0. 0. 0. 0.]\n"
          ]
        }
      ]
    },
    {
      "cell_type": "markdown",
      "source": [
        "7. Reverse an array arr = [1,2,0,0,4,0].\n"
      ],
      "metadata": {
        "id": "57jQkGnrSkLm"
      }
    },
    {
      "cell_type": "code",
      "source": [
        "arr = [1, 2, 0, 0, 4, 0]\n",
        "reverseArray = arr[::-1]\n",
        "print(reverseArray)"
      ],
      "metadata": {
        "colab": {
          "base_uri": "https://localhost:8080/"
        },
        "id": "fM4ZQGPtSldd",
        "outputId": "cefbdbe7-e521-4a82-c77c-d586cc2649fa"
      },
      "execution_count": 23,
      "outputs": [
        {
          "output_type": "stream",
          "name": "stdout",
          "text": [
            "[0, 4, 0, 0, 2, 1]\n"
          ]
        }
      ]
    },
    {
      "cell_type": "markdown",
      "source": [
        "8. Create a 2d array with 1 on border and 0 inside.\n"
      ],
      "metadata": {
        "id": "EzH16X4WSls5"
      }
    },
    {
      "cell_type": "code",
      "source": [
        "arr = np.ones((3,4))\n",
        "arr[1:-1, 1:-1] = 0\n",
        "print(arr)"
      ],
      "metadata": {
        "colab": {
          "base_uri": "https://localhost:8080/"
        },
        "id": "0j-oZBAMSmiN",
        "outputId": "41679a37-4776-4e4c-9054-4530c5e99ca8"
      },
      "execution_count": 27,
      "outputs": [
        {
          "output_type": "stream",
          "name": "stdout",
          "text": [
            "[[1. 1. 1. 1.]\n",
            " [1. 0. 0. 1.]\n",
            " [1. 1. 1. 1.]]\n"
          ]
        }
      ]
    },
    {
      "cell_type": "markdown",
      "source": [
        "9. Create a 8X8 matrix and fill it with a checkerboard pattern."
      ],
      "metadata": {
        "id": "dok-pYs_Sm79"
      }
    },
    {
      "cell_type": "code",
      "source": [
        "checkerArray = np.zeros((8, 8))\n",
        "checkerArray[1::2, ::2] = 1\n",
        "checkerArray[::2, 1::2] = 1\n",
        "print(checkerArray)"
      ],
      "metadata": {
        "colab": {
          "base_uri": "https://localhost:8080/"
        },
        "id": "_2fxhWVsSsJV",
        "outputId": "4c36341f-7492-485c-95d8-24b40ba6f425"
      },
      "execution_count": 29,
      "outputs": [
        {
          "output_type": "stream",
          "name": "stdout",
          "text": [
            "[[0. 1. 0. 1. 0. 1. 0. 1.]\n",
            " [1. 0. 1. 0. 1. 0. 1. 0.]\n",
            " [0. 1. 0. 1. 0. 1. 0. 1.]\n",
            " [1. 0. 1. 0. 1. 0. 1. 0.]\n",
            " [0. 1. 0. 1. 0. 1. 0. 1.]\n",
            " [1. 0. 1. 0. 1. 0. 1. 0.]\n",
            " [0. 1. 0. 1. 0. 1. 0. 1.]\n",
            " [1. 0. 1. 0. 1. 0. 1. 0.]]\n"
          ]
        }
      ]
    },
    {
      "cell_type": "markdown",
      "source": [
        "Problem - 3: Array Operations:\n",
        "\n",
        "For the following arrays:\n",
        "\n",
        "x = np.array([[1,2],[3,5]]) and y = np.array([[5,6],[7,8]]);\n",
        "\n",
        "v = np.array([9,10]) and w = np.array([11,12]);\n",
        "\n",
        "Complete all the task using numpy:\n",
        "1. Add the two array.\n"
      ],
      "metadata": {
        "id": "1rICZsi8uNGC"
      }
    },
    {
      "cell_type": "code",
      "source": [
        "x = np.array([[1, 2], [3, 5]])\n",
        "y = np.array([[5, 6], [7, 8]])\n",
        "v = np.array([9, 10])\n",
        "w = np.array([11, 12])"
      ],
      "metadata": {
        "id": "L8Emlc67VunH"
      },
      "execution_count": 30,
      "outputs": []
    },
    {
      "cell_type": "code",
      "source": [
        "print(x + y)"
      ],
      "metadata": {
        "colab": {
          "base_uri": "https://localhost:8080/"
        },
        "id": "wjOZ_1O_VhV9",
        "outputId": "f6fcdc34-a9d6-4711-fae0-8428d94a6fc7"
      },
      "execution_count": 32,
      "outputs": [
        {
          "output_type": "stream",
          "name": "stdout",
          "text": [
            "[[ 6  8]\n",
            " [10 13]]\n"
          ]
        }
      ]
    },
    {
      "cell_type": "markdown",
      "source": [
        "2. Subtract the two array."
      ],
      "metadata": {
        "id": "SEOEe-fZVhqW"
      }
    },
    {
      "cell_type": "code",
      "source": [
        "print(x - y)"
      ],
      "metadata": {
        "colab": {
          "base_uri": "https://localhost:8080/"
        },
        "id": "5kZgJCfiViJN",
        "outputId": "086c50c8-e51d-48cf-d7a9-2671017b850a"
      },
      "execution_count": 33,
      "outputs": [
        {
          "output_type": "stream",
          "name": "stdout",
          "text": [
            "[[-4 -4]\n",
            " [-4 -3]]\n"
          ]
        }
      ]
    },
    {
      "cell_type": "markdown",
      "source": [
        "3. Multiply the array with any integers of your choice.\n"
      ],
      "metadata": {
        "id": "lkzxlW3EViWd"
      }
    },
    {
      "cell_type": "code",
      "source": [
        "print(x * 4)"
      ],
      "metadata": {
        "colab": {
          "base_uri": "https://localhost:8080/"
        },
        "id": "vYzluKmfVio9",
        "outputId": "f589ede6-dbb5-4327-8384-e9c16302c8ac"
      },
      "execution_count": 34,
      "outputs": [
        {
          "output_type": "stream",
          "name": "stdout",
          "text": [
            "[[ 4  8]\n",
            " [12 20]]\n"
          ]
        }
      ]
    },
    {
      "cell_type": "markdown",
      "source": [
        "4. Find the square of each element of the array.\n"
      ],
      "metadata": {
        "id": "TBNQTnYwVi2o"
      }
    },
    {
      "cell_type": "code",
      "source": [
        "print(x**2)"
      ],
      "metadata": {
        "colab": {
          "base_uri": "https://localhost:8080/"
        },
        "id": "W-5VBQbIVjKe",
        "outputId": "5e2db4ee-199a-49bb-f796-e524d3fb138c"
      },
      "execution_count": 35,
      "outputs": [
        {
          "output_type": "stream",
          "name": "stdout",
          "text": [
            "[[ 1  4]\n",
            " [ 9 25]]\n"
          ]
        }
      ]
    },
    {
      "cell_type": "markdown",
      "source": [
        "5. Find the dot product between: v(and)w ; x(and)v ; x(and)y.\n"
      ],
      "metadata": {
        "id": "hqgg3xBLVjZd"
      }
    },
    {
      "cell_type": "code",
      "source": [
        "print(\"v.w:\\n\", np.dot(v, w))\n",
        "print(\"x.v:\\n\", np.dot(x, v))\n",
        "print(\"x.y:\\n\", np.dot(x, y))"
      ],
      "metadata": {
        "colab": {
          "base_uri": "https://localhost:8080/"
        },
        "id": "hFjbUosGVj0d",
        "outputId": "06aef202-d49d-43e3-e76d-a6167d968245"
      },
      "execution_count": 40,
      "outputs": [
        {
          "output_type": "stream",
          "name": "stdout",
          "text": [
            "v.w:\n",
            " 219\n",
            "x.v:\n",
            " [29 77]\n",
            "x.y:\n",
            " [[19 22]\n",
            " [50 58]]\n"
          ]
        }
      ]
    },
    {
      "cell_type": "markdown",
      "source": [
        "6. Concatenate x(and)y along row and Concatenate v(and)w along column.\n",
        "{Hint:try np.concatenate() or np.vstack() functions.}"
      ],
      "metadata": {
        "id": "0QFx5wj7WQ-N"
      }
    },
    {
      "cell_type": "code",
      "source": [
        "print(\"Concatenate x and y along rows:\\n\", np.concatenate((x, y)))\n",
        "print(\"Concatenate v and w along columns:\\n\", np.vstack((v, w)))"
      ],
      "metadata": {
        "colab": {
          "base_uri": "https://localhost:8080/"
        },
        "id": "wiYRTANfWRy_",
        "outputId": "e02dae68-7be6-4b08-9f0b-f7d058963707"
      },
      "execution_count": 45,
      "outputs": [
        {
          "output_type": "stream",
          "name": "stdout",
          "text": [
            "Concatenate x and y along rows:\n",
            " [[1 2]\n",
            " [3 5]\n",
            " [5 6]\n",
            " [7 8]]\n",
            "Concatenate v and w along columns:\n",
            " [[ 9 10]\n",
            " [11 12]]\n"
          ]
        }
      ]
    },
    {
      "cell_type": "markdown",
      "source": [
        "7. Concatenate x(and)v; if you get an error, observe and explain why did you get the error?"
      ],
      "metadata": {
        "id": "i0uULmbLWSLf"
      }
    },
    {
      "cell_type": "code",
      "source": [
        "try:\n",
        "    np.concatenate((x, v))\n",
        "except ValueError as e:\n",
        "    print(\"\\nError in Concatenation of x and v:\\n\", e)"
      ],
      "metadata": {
        "colab": {
          "base_uri": "https://localhost:8080/"
        },
        "id": "uzxWIbbHWWod",
        "outputId": "4e793299-2c1d-4ab1-9bbb-0d6c40fb83ba"
      },
      "execution_count": 46,
      "outputs": [
        {
          "output_type": "stream",
          "name": "stdout",
          "text": [
            "\n",
            "Error in Concatenation of x and v:\n",
            " all the input arrays must have same number of dimensions, but the array at index 0 has 2 dimension(s) and the array at index 1 has 1 dimension(s)\n"
          ]
        }
      ]
    },
    {
      "cell_type": "markdown",
      "source": [
        "Problem - 4: Matrix Operations:\n",
        "\n",
        "• For the following arrays:\n",
        "\n",
        "A = np.array([[3,4],[7,8]]) and B = np.array([[5,3],[2,1]]);\n",
        "\n",
        "Prove following with Numpy:\n",
        "1. Prove A.A−1 = I.\n",
        "\n",
        "\n"
      ],
      "metadata": {
        "id": "31ikEQZdXT_l"
      }
    },
    {
      "cell_type": "code",
      "source": [
        "A = np.array([[3, 4], [7, 8]])\n",
        "B = np.array([[5, 3], [2, 1]])"
      ],
      "metadata": {
        "id": "b5hDVzZLXjBG"
      },
      "execution_count": 7,
      "outputs": []
    },
    {
      "cell_type": "code",
      "source": [
        "inverseOfA = np.linalg.inv(A)\n",
        "I = np.dot(A, inverseOfA)\n",
        "print(\"\\nA.A^-1:\\n\", I)"
      ],
      "metadata": {
        "colab": {
          "base_uri": "https://localhost:8080/"
        },
        "id": "jDzgKJmdYUdI",
        "outputId": "8c0f44a8-2788-4e2c-bde5-eb4d71c8e2ae"
      },
      "execution_count": 54,
      "outputs": [
        {
          "output_type": "stream",
          "name": "stdout",
          "text": [
            "\n",
            "A.A^-1:\n",
            " [[1.00000000e+00 0.00000000e+00]\n",
            " [1.77635684e-15 1.00000000e+00]]\n"
          ]
        }
      ]
    },
    {
      "cell_type": "markdown",
      "source": [
        "2. Prove AB ̸= BA.\n"
      ],
      "metadata": {
        "id": "nLcJnXskXtM1"
      }
    },
    {
      "cell_type": "code",
      "source": [
        "AB = np.dot(A, B)\n",
        "BA = np.dot(B, A)\n",
        "print(\"AB:\\n\", AB)\n",
        "print(\"BA:\\n\", BA)"
      ],
      "metadata": {
        "colab": {
          "base_uri": "https://localhost:8080/"
        },
        "id": "ghL04YjQXs1F",
        "outputId": "81e1287d-d67d-4866-ed42-89ad386701fb"
      },
      "execution_count": 9,
      "outputs": [
        {
          "output_type": "stream",
          "name": "stdout",
          "text": [
            "AB:\n",
            " [[23 13]\n",
            " [51 29]]\n",
            "BA:\n",
            " [[36 44]\n",
            " [13 16]]\n"
          ]
        }
      ]
    },
    {
      "cell_type": "markdown",
      "source": [
        "3. Prove (AB)T = BTAT"
      ],
      "metadata": {
        "id": "Aw53WFSHXvIG"
      }
    },
    {
      "cell_type": "code",
      "source": [
        "AB_T = np.transpose(AB)\n",
        "BT_AT = np.dot(np.transpose(B), np.transpose(A))\n",
        "\n",
        "print(\"(AB)^T:\\n\", AB_T)\n",
        "print(\"B^T.A^T:\\n\", BT_AT)"
      ],
      "metadata": {
        "colab": {
          "base_uri": "https://localhost:8080/"
        },
        "id": "srcXx6m6Xvce",
        "outputId": "27fe8f4d-d50c-4982-c6e7-4138411a7da0"
      },
      "execution_count": 10,
      "outputs": [
        {
          "output_type": "stream",
          "name": "stdout",
          "text": [
            "(AB)^T:\n",
            " [[23 51]\n",
            " [13 29]]\n",
            "B^T.A^T:\n",
            " [[23 51]\n",
            " [13 29]]\n"
          ]
        }
      ]
    },
    {
      "cell_type": "markdown",
      "source": [
        "• Solve the following system of Linear equation using Inverse Methods.\n",
        "\n",
        "2x − 3y + z = −1\n",
        "\n",
        "x − y + 2z = −3\n",
        "\n",
        "3x + y − z = 9\n",
        "\n",
        "{Hint: First use Numpy array to represent the equation in Matrix form. Then Solve for: AX = B}\n",
        "\n",
        "• Now: solve the above equation using np.linalg.inv function.{Explore more about ”linalg” function\n",
        "of Numpy}\n"
      ],
      "metadata": {
        "id": "7yeeoGr_Xdq_"
      }
    },
    {
      "cell_type": "code",
      "source": [
        "A = np.array([\n",
        "    [2, -3, 1],\n",
        "    [1, -1, 2],\n",
        "    [3, 1, -1]\n",
        "])\n",
        "\n",
        "B = np.array([-1, -3, 9])\n",
        "inverseOfA = np.linalg.inv(A)\n",
        "# X = A^-1.B\n",
        "X = np.dot(inverseOfA, B)\n",
        "\n",
        "print(\"(x,y,z) = \", X)"
      ],
      "metadata": {
        "colab": {
          "base_uri": "https://localhost:8080/"
        },
        "id": "Zif5iaSHXg41",
        "outputId": "52e441bc-7118-443d-9320-86aae8b8a6b0"
      },
      "execution_count": 11,
      "outputs": [
        {
          "output_type": "stream",
          "name": "stdout",
          "text": [
            "(x,y,z) =  [ 2.  1. -2.]\n"
          ]
        }
      ]
    }
  ]
}